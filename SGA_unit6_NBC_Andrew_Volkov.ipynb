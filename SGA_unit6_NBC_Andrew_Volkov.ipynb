{
  "cells": [
    {
      "cell_type": "markdown",
      "id": "00009cca",
      "metadata": {
        "id": "00009cca"
      },
      "source": [
        "# Классификация текстов с использованием Наивного Байесовского Классификатора"
      ]
    },
    {
      "cell_type": "markdown",
      "id": "a52414b8",
      "metadata": {
        "id": "a52414b8"
      },
      "source": [
        "## Задание 1 (1 балл)"
      ]
    },
    {
      "cell_type": "markdown",
      "id": "f5f27b43",
      "metadata": {
        "id": "f5f27b43"
      },
      "source": [
        "Откройте данные. Узнайте, сколько в них спам- и не спам-писем. Визуализируйте полученные соотношение подходящим образом."
      ]
    },
    {
      "cell_type": "code",
      "execution_count": 2,
      "id": "45701341",
      "metadata": {},
      "outputs": [],
      "source": [
        "import pandas as pd\n",
        "import plotly.express as px\n",
        "from sklearn.feature_extraction.text import CountVectorizer\n",
        "from sklearn.model_selection import train_test_split, GridSearchCV\n",
        "from sklearn.naive_bayes import ComplementNB\n",
        "from sklearn import metrics\n"
      ]
    },
    {
      "cell_type": "code",
      "execution_count": 3,
      "id": "ac369274",
      "metadata": {
        "id": "ac369274"
      },
      "outputs": [
        {
          "data": {
            "text/html": [
              "<div>\n",
              "<style scoped>\n",
              "    .dataframe tbody tr th:only-of-type {\n",
              "        vertical-align: middle;\n",
              "    }\n",
              "\n",
              "    .dataframe tbody tr th {\n",
              "        vertical-align: top;\n",
              "    }\n",
              "\n",
              "    .dataframe thead th {\n",
              "        text-align: right;\n",
              "    }\n",
              "</style>\n",
              "<table border=\"1\" class=\"dataframe\">\n",
              "  <thead>\n",
              "    <tr style=\"text-align: right;\">\n",
              "      <th></th>\n",
              "      <th>email</th>\n",
              "      <th>label</th>\n",
              "    </tr>\n",
              "  </thead>\n",
              "  <tbody>\n",
              "    <tr>\n",
              "      <th>0</th>\n",
              "      <td>date wed NUMBER aug NUMBER NUMBER NUMBER NUMB...</td>\n",
              "      <td>0</td>\n",
              "    </tr>\n",
              "    <tr>\n",
              "      <th>1</th>\n",
              "      <td>martin a posted tassos papadopoulos the greek ...</td>\n",
              "      <td>0</td>\n",
              "    </tr>\n",
              "    <tr>\n",
              "      <th>2</th>\n",
              "      <td>man threatens explosion in moscow thursday aug...</td>\n",
              "      <td>0</td>\n",
              "    </tr>\n",
              "    <tr>\n",
              "      <th>3</th>\n",
              "      <td>klez the virus that won t die already the most...</td>\n",
              "      <td>0</td>\n",
              "    </tr>\n",
              "    <tr>\n",
              "      <th>4</th>\n",
              "      <td>in adding cream to spaghetti carbonara which ...</td>\n",
              "      <td>0</td>\n",
              "    </tr>\n",
              "  </tbody>\n",
              "</table>\n",
              "</div>"
            ],
            "text/plain": [
              "                                               email  label\n",
              "0   date wed NUMBER aug NUMBER NUMBER NUMBER NUMB...      0\n",
              "1  martin a posted tassos papadopoulos the greek ...      0\n",
              "2  man threatens explosion in moscow thursday aug...      0\n",
              "3  klez the virus that won t die already the most...      0\n",
              "4   in adding cream to spaghetti carbonara which ...      0"
            ]
          },
          "execution_count": 3,
          "metadata": {},
          "output_type": "execute_result"
        }
      ],
      "source": [
        "email_data = pd.read_csv('data/spam_or_not_spam.csv')\n",
        "email_data.head()"
      ]
    },
    {
      "cell_type": "code",
      "execution_count": 4,
      "id": "f4231781",
      "metadata": {
        "id": "f4231781"
      },
      "outputs": [
        {
          "data": {
            "text/html": [
              "<div>\n",
              "<style scoped>\n",
              "    .dataframe tbody tr th:only-of-type {\n",
              "        vertical-align: middle;\n",
              "    }\n",
              "\n",
              "    .dataframe tbody tr th {\n",
              "        vertical-align: top;\n",
              "    }\n",
              "\n",
              "    .dataframe thead th {\n",
              "        text-align: right;\n",
              "    }\n",
              "</style>\n",
              "<table border=\"1\" class=\"dataframe\">\n",
              "  <thead>\n",
              "    <tr style=\"text-align: right;\">\n",
              "      <th></th>\n",
              "      <th>count</th>\n",
              "    </tr>\n",
              "    <tr>\n",
              "      <th>label</th>\n",
              "      <th></th>\n",
              "    </tr>\n",
              "  </thead>\n",
              "  <tbody>\n",
              "    <tr>\n",
              "      <th>не спам</th>\n",
              "      <td>2500</td>\n",
              "    </tr>\n",
              "    <tr>\n",
              "      <th>спам</th>\n",
              "      <td>500</td>\n",
              "    </tr>\n",
              "  </tbody>\n",
              "</table>\n",
              "</div>"
            ],
            "text/plain": [
              "         count\n",
              "label         \n",
              "не спам   2500\n",
              "спам       500"
            ]
          },
          "execution_count": 4,
          "metadata": {},
          "output_type": "execute_result"
        }
      ],
      "source": [
        "describer = {\n",
        "  0: 'не спам',\n",
        "  1: 'спам'\n",
        "}\n",
        "ratio_info = email_data.label.value_counts().to_frame().reset_index()\n",
        "ratio_info.label = ratio_info.label.map(describer)\n",
        "ratio_info.set_index('label', inplace=True)\n",
        "ratio_info\n"
      ]
    },
    {
      "cell_type": "code",
      "execution_count": 5,
      "id": "9b871636",
      "metadata": {
        "id": "9b871636"
      },
      "outputs": [
        {
          "data": {
            "application/vnd.plotly.v1+json": {
              "config": {
                "plotlyServerURL": "https://plot.ly"
              },
              "data": [
                {
                  "domain": {
                    "x": [
                      0,
                      1
                    ],
                    "y": [
                      0,
                      1
                    ]
                  },
                  "hole": 0.3,
                  "hovertemplate": "label=%{label}<br>count=%{value}<extra></extra>",
                  "labels": [
                    "не спам",
                    "спам"
                  ],
                  "legendgroup": "",
                  "name": "",
                  "showlegend": true,
                  "type": "pie",
                  "values": [
                    2500,
                    500
                  ]
                }
              ],
              "layout": {
                "legend": {
                  "tracegroupgap": 0
                },
                "margin": {
                  "t": 60
                },
                "template": {
                  "data": {
                    "bar": [
                      {
                        "error_x": {
                          "color": "#2a3f5f"
                        },
                        "error_y": {
                          "color": "#2a3f5f"
                        },
                        "marker": {
                          "line": {
                            "color": "#E5ECF6",
                            "width": 0.5
                          },
                          "pattern": {
                            "fillmode": "overlay",
                            "size": 10,
                            "solidity": 0.2
                          }
                        },
                        "type": "bar"
                      }
                    ],
                    "barpolar": [
                      {
                        "marker": {
                          "line": {
                            "color": "#E5ECF6",
                            "width": 0.5
                          },
                          "pattern": {
                            "fillmode": "overlay",
                            "size": 10,
                            "solidity": 0.2
                          }
                        },
                        "type": "barpolar"
                      }
                    ],
                    "carpet": [
                      {
                        "aaxis": {
                          "endlinecolor": "#2a3f5f",
                          "gridcolor": "white",
                          "linecolor": "white",
                          "minorgridcolor": "white",
                          "startlinecolor": "#2a3f5f"
                        },
                        "baxis": {
                          "endlinecolor": "#2a3f5f",
                          "gridcolor": "white",
                          "linecolor": "white",
                          "minorgridcolor": "white",
                          "startlinecolor": "#2a3f5f"
                        },
                        "type": "carpet"
                      }
                    ],
                    "choropleth": [
                      {
                        "colorbar": {
                          "outlinewidth": 0,
                          "ticks": ""
                        },
                        "type": "choropleth"
                      }
                    ],
                    "contour": [
                      {
                        "colorbar": {
                          "outlinewidth": 0,
                          "ticks": ""
                        },
                        "colorscale": [
                          [
                            0,
                            "#0d0887"
                          ],
                          [
                            0.1111111111111111,
                            "#46039f"
                          ],
                          [
                            0.2222222222222222,
                            "#7201a8"
                          ],
                          [
                            0.3333333333333333,
                            "#9c179e"
                          ],
                          [
                            0.4444444444444444,
                            "#bd3786"
                          ],
                          [
                            0.5555555555555556,
                            "#d8576b"
                          ],
                          [
                            0.6666666666666666,
                            "#ed7953"
                          ],
                          [
                            0.7777777777777778,
                            "#fb9f3a"
                          ],
                          [
                            0.8888888888888888,
                            "#fdca26"
                          ],
                          [
                            1,
                            "#f0f921"
                          ]
                        ],
                        "type": "contour"
                      }
                    ],
                    "contourcarpet": [
                      {
                        "colorbar": {
                          "outlinewidth": 0,
                          "ticks": ""
                        },
                        "type": "contourcarpet"
                      }
                    ],
                    "heatmap": [
                      {
                        "colorbar": {
                          "outlinewidth": 0,
                          "ticks": ""
                        },
                        "colorscale": [
                          [
                            0,
                            "#0d0887"
                          ],
                          [
                            0.1111111111111111,
                            "#46039f"
                          ],
                          [
                            0.2222222222222222,
                            "#7201a8"
                          ],
                          [
                            0.3333333333333333,
                            "#9c179e"
                          ],
                          [
                            0.4444444444444444,
                            "#bd3786"
                          ],
                          [
                            0.5555555555555556,
                            "#d8576b"
                          ],
                          [
                            0.6666666666666666,
                            "#ed7953"
                          ],
                          [
                            0.7777777777777778,
                            "#fb9f3a"
                          ],
                          [
                            0.8888888888888888,
                            "#fdca26"
                          ],
                          [
                            1,
                            "#f0f921"
                          ]
                        ],
                        "type": "heatmap"
                      }
                    ],
                    "heatmapgl": [
                      {
                        "colorbar": {
                          "outlinewidth": 0,
                          "ticks": ""
                        },
                        "colorscale": [
                          [
                            0,
                            "#0d0887"
                          ],
                          [
                            0.1111111111111111,
                            "#46039f"
                          ],
                          [
                            0.2222222222222222,
                            "#7201a8"
                          ],
                          [
                            0.3333333333333333,
                            "#9c179e"
                          ],
                          [
                            0.4444444444444444,
                            "#bd3786"
                          ],
                          [
                            0.5555555555555556,
                            "#d8576b"
                          ],
                          [
                            0.6666666666666666,
                            "#ed7953"
                          ],
                          [
                            0.7777777777777778,
                            "#fb9f3a"
                          ],
                          [
                            0.8888888888888888,
                            "#fdca26"
                          ],
                          [
                            1,
                            "#f0f921"
                          ]
                        ],
                        "type": "heatmapgl"
                      }
                    ],
                    "histogram": [
                      {
                        "marker": {
                          "pattern": {
                            "fillmode": "overlay",
                            "size": 10,
                            "solidity": 0.2
                          }
                        },
                        "type": "histogram"
                      }
                    ],
                    "histogram2d": [
                      {
                        "colorbar": {
                          "outlinewidth": 0,
                          "ticks": ""
                        },
                        "colorscale": [
                          [
                            0,
                            "#0d0887"
                          ],
                          [
                            0.1111111111111111,
                            "#46039f"
                          ],
                          [
                            0.2222222222222222,
                            "#7201a8"
                          ],
                          [
                            0.3333333333333333,
                            "#9c179e"
                          ],
                          [
                            0.4444444444444444,
                            "#bd3786"
                          ],
                          [
                            0.5555555555555556,
                            "#d8576b"
                          ],
                          [
                            0.6666666666666666,
                            "#ed7953"
                          ],
                          [
                            0.7777777777777778,
                            "#fb9f3a"
                          ],
                          [
                            0.8888888888888888,
                            "#fdca26"
                          ],
                          [
                            1,
                            "#f0f921"
                          ]
                        ],
                        "type": "histogram2d"
                      }
                    ],
                    "histogram2dcontour": [
                      {
                        "colorbar": {
                          "outlinewidth": 0,
                          "ticks": ""
                        },
                        "colorscale": [
                          [
                            0,
                            "#0d0887"
                          ],
                          [
                            0.1111111111111111,
                            "#46039f"
                          ],
                          [
                            0.2222222222222222,
                            "#7201a8"
                          ],
                          [
                            0.3333333333333333,
                            "#9c179e"
                          ],
                          [
                            0.4444444444444444,
                            "#bd3786"
                          ],
                          [
                            0.5555555555555556,
                            "#d8576b"
                          ],
                          [
                            0.6666666666666666,
                            "#ed7953"
                          ],
                          [
                            0.7777777777777778,
                            "#fb9f3a"
                          ],
                          [
                            0.8888888888888888,
                            "#fdca26"
                          ],
                          [
                            1,
                            "#f0f921"
                          ]
                        ],
                        "type": "histogram2dcontour"
                      }
                    ],
                    "mesh3d": [
                      {
                        "colorbar": {
                          "outlinewidth": 0,
                          "ticks": ""
                        },
                        "type": "mesh3d"
                      }
                    ],
                    "parcoords": [
                      {
                        "line": {
                          "colorbar": {
                            "outlinewidth": 0,
                            "ticks": ""
                          }
                        },
                        "type": "parcoords"
                      }
                    ],
                    "pie": [
                      {
                        "automargin": true,
                        "type": "pie"
                      }
                    ],
                    "scatter": [
                      {
                        "fillpattern": {
                          "fillmode": "overlay",
                          "size": 10,
                          "solidity": 0.2
                        },
                        "type": "scatter"
                      }
                    ],
                    "scatter3d": [
                      {
                        "line": {
                          "colorbar": {
                            "outlinewidth": 0,
                            "ticks": ""
                          }
                        },
                        "marker": {
                          "colorbar": {
                            "outlinewidth": 0,
                            "ticks": ""
                          }
                        },
                        "type": "scatter3d"
                      }
                    ],
                    "scattercarpet": [
                      {
                        "marker": {
                          "colorbar": {
                            "outlinewidth": 0,
                            "ticks": ""
                          }
                        },
                        "type": "scattercarpet"
                      }
                    ],
                    "scattergeo": [
                      {
                        "marker": {
                          "colorbar": {
                            "outlinewidth": 0,
                            "ticks": ""
                          }
                        },
                        "type": "scattergeo"
                      }
                    ],
                    "scattergl": [
                      {
                        "marker": {
                          "colorbar": {
                            "outlinewidth": 0,
                            "ticks": ""
                          }
                        },
                        "type": "scattergl"
                      }
                    ],
                    "scattermapbox": [
                      {
                        "marker": {
                          "colorbar": {
                            "outlinewidth": 0,
                            "ticks": ""
                          }
                        },
                        "type": "scattermapbox"
                      }
                    ],
                    "scatterpolar": [
                      {
                        "marker": {
                          "colorbar": {
                            "outlinewidth": 0,
                            "ticks": ""
                          }
                        },
                        "type": "scatterpolar"
                      }
                    ],
                    "scatterpolargl": [
                      {
                        "marker": {
                          "colorbar": {
                            "outlinewidth": 0,
                            "ticks": ""
                          }
                        },
                        "type": "scatterpolargl"
                      }
                    ],
                    "scatterternary": [
                      {
                        "marker": {
                          "colorbar": {
                            "outlinewidth": 0,
                            "ticks": ""
                          }
                        },
                        "type": "scatterternary"
                      }
                    ],
                    "surface": [
                      {
                        "colorbar": {
                          "outlinewidth": 0,
                          "ticks": ""
                        },
                        "colorscale": [
                          [
                            0,
                            "#0d0887"
                          ],
                          [
                            0.1111111111111111,
                            "#46039f"
                          ],
                          [
                            0.2222222222222222,
                            "#7201a8"
                          ],
                          [
                            0.3333333333333333,
                            "#9c179e"
                          ],
                          [
                            0.4444444444444444,
                            "#bd3786"
                          ],
                          [
                            0.5555555555555556,
                            "#d8576b"
                          ],
                          [
                            0.6666666666666666,
                            "#ed7953"
                          ],
                          [
                            0.7777777777777778,
                            "#fb9f3a"
                          ],
                          [
                            0.8888888888888888,
                            "#fdca26"
                          ],
                          [
                            1,
                            "#f0f921"
                          ]
                        ],
                        "type": "surface"
                      }
                    ],
                    "table": [
                      {
                        "cells": {
                          "fill": {
                            "color": "#EBF0F8"
                          },
                          "line": {
                            "color": "white"
                          }
                        },
                        "header": {
                          "fill": {
                            "color": "#C8D4E3"
                          },
                          "line": {
                            "color": "white"
                          }
                        },
                        "type": "table"
                      }
                    ]
                  },
                  "layout": {
                    "annotationdefaults": {
                      "arrowcolor": "#2a3f5f",
                      "arrowhead": 0,
                      "arrowwidth": 1
                    },
                    "autotypenumbers": "strict",
                    "coloraxis": {
                      "colorbar": {
                        "outlinewidth": 0,
                        "ticks": ""
                      }
                    },
                    "colorscale": {
                      "diverging": [
                        [
                          0,
                          "#8e0152"
                        ],
                        [
                          0.1,
                          "#c51b7d"
                        ],
                        [
                          0.2,
                          "#de77ae"
                        ],
                        [
                          0.3,
                          "#f1b6da"
                        ],
                        [
                          0.4,
                          "#fde0ef"
                        ],
                        [
                          0.5,
                          "#f7f7f7"
                        ],
                        [
                          0.6,
                          "#e6f5d0"
                        ],
                        [
                          0.7,
                          "#b8e186"
                        ],
                        [
                          0.8,
                          "#7fbc41"
                        ],
                        [
                          0.9,
                          "#4d9221"
                        ],
                        [
                          1,
                          "#276419"
                        ]
                      ],
                      "sequential": [
                        [
                          0,
                          "#0d0887"
                        ],
                        [
                          0.1111111111111111,
                          "#46039f"
                        ],
                        [
                          0.2222222222222222,
                          "#7201a8"
                        ],
                        [
                          0.3333333333333333,
                          "#9c179e"
                        ],
                        [
                          0.4444444444444444,
                          "#bd3786"
                        ],
                        [
                          0.5555555555555556,
                          "#d8576b"
                        ],
                        [
                          0.6666666666666666,
                          "#ed7953"
                        ],
                        [
                          0.7777777777777778,
                          "#fb9f3a"
                        ],
                        [
                          0.8888888888888888,
                          "#fdca26"
                        ],
                        [
                          1,
                          "#f0f921"
                        ]
                      ],
                      "sequentialminus": [
                        [
                          0,
                          "#0d0887"
                        ],
                        [
                          0.1111111111111111,
                          "#46039f"
                        ],
                        [
                          0.2222222222222222,
                          "#7201a8"
                        ],
                        [
                          0.3333333333333333,
                          "#9c179e"
                        ],
                        [
                          0.4444444444444444,
                          "#bd3786"
                        ],
                        [
                          0.5555555555555556,
                          "#d8576b"
                        ],
                        [
                          0.6666666666666666,
                          "#ed7953"
                        ],
                        [
                          0.7777777777777778,
                          "#fb9f3a"
                        ],
                        [
                          0.8888888888888888,
                          "#fdca26"
                        ],
                        [
                          1,
                          "#f0f921"
                        ]
                      ]
                    },
                    "colorway": [
                      "#636efa",
                      "#EF553B",
                      "#00cc96",
                      "#ab63fa",
                      "#FFA15A",
                      "#19d3f3",
                      "#FF6692",
                      "#B6E880",
                      "#FF97FF",
                      "#FECB52"
                    ],
                    "font": {
                      "color": "#2a3f5f"
                    },
                    "geo": {
                      "bgcolor": "white",
                      "lakecolor": "white",
                      "landcolor": "#E5ECF6",
                      "showlakes": true,
                      "showland": true,
                      "subunitcolor": "white"
                    },
                    "hoverlabel": {
                      "align": "left"
                    },
                    "hovermode": "closest",
                    "mapbox": {
                      "style": "light"
                    },
                    "paper_bgcolor": "white",
                    "plot_bgcolor": "#E5ECF6",
                    "polar": {
                      "angularaxis": {
                        "gridcolor": "white",
                        "linecolor": "white",
                        "ticks": ""
                      },
                      "bgcolor": "#E5ECF6",
                      "radialaxis": {
                        "gridcolor": "white",
                        "linecolor": "white",
                        "ticks": ""
                      }
                    },
                    "scene": {
                      "xaxis": {
                        "backgroundcolor": "#E5ECF6",
                        "gridcolor": "white",
                        "gridwidth": 2,
                        "linecolor": "white",
                        "showbackground": true,
                        "ticks": "",
                        "zerolinecolor": "white"
                      },
                      "yaxis": {
                        "backgroundcolor": "#E5ECF6",
                        "gridcolor": "white",
                        "gridwidth": 2,
                        "linecolor": "white",
                        "showbackground": true,
                        "ticks": "",
                        "zerolinecolor": "white"
                      },
                      "zaxis": {
                        "backgroundcolor": "#E5ECF6",
                        "gridcolor": "white",
                        "gridwidth": 2,
                        "linecolor": "white",
                        "showbackground": true,
                        "ticks": "",
                        "zerolinecolor": "white"
                      }
                    },
                    "shapedefaults": {
                      "line": {
                        "color": "#2a3f5f"
                      }
                    },
                    "ternary": {
                      "aaxis": {
                        "gridcolor": "white",
                        "linecolor": "white",
                        "ticks": ""
                      },
                      "baxis": {
                        "gridcolor": "white",
                        "linecolor": "white",
                        "ticks": ""
                      },
                      "bgcolor": "#E5ECF6",
                      "caxis": {
                        "gridcolor": "white",
                        "linecolor": "white",
                        "ticks": ""
                      }
                    },
                    "title": {
                      "x": 0.05
                    },
                    "xaxis": {
                      "automargin": true,
                      "gridcolor": "white",
                      "linecolor": "white",
                      "ticks": "",
                      "title": {
                        "standoff": 15
                      },
                      "zerolinecolor": "white",
                      "zerolinewidth": 2
                    },
                    "yaxis": {
                      "automargin": true,
                      "gridcolor": "white",
                      "linecolor": "white",
                      "ticks": "",
                      "title": {
                        "standoff": 15
                      },
                      "zerolinecolor": "white",
                      "zerolinewidth": 2
                    }
                  }
                },
                "title": {
                  "text": "Соотношение писем, относительно спама"
                }
              }
            }
          },
          "metadata": {},
          "output_type": "display_data"
        }
      ],
      "source": [
        "fig = px.pie(ratio_info, \n",
        "             values = 'count',\n",
        "             names = ratio_info.index,\n",
        "             hole=.3,\n",
        "             )\n",
        "fig.update_layout(\n",
        "            title_text=\"Соотношение писем, относительно спама\"\n",
        "    )\n",
        "fig.show()"
      ]
    },
    {
      "cell_type": "markdown",
      "id": "b161614b",
      "metadata": {
        "id": "b161614b"
      },
      "source": [
        "## Задание 2 (2 балла)"
      ]
    },
    {
      "cell_type": "markdown",
      "id": "dd29763b",
      "metadata": {
        "id": "dd29763b"
      },
      "source": [
        "Вам необходимо предобработать ваши данные и перевести их в векторный вид. Подгрузим необходимый модуль:"
      ]
    },
    {
      "cell_type": "markdown",
      "id": "89546b95",
      "metadata": {
        "id": "89546b95"
      },
      "source": [
        "Замените в данных все пустые строки и строки, состоящие из пробелов, на пропуски (NaN). После этого удалите из данных все строки, в которых наблюдаются пропущенные значения."
      ]
    },
    {
      "cell_type": "code",
      "execution_count": 18,
      "id": "45180f82",
      "metadata": {
        "id": "45180f82"
      },
      "outputs": [],
      "source": [
        "# удалим записи, где в тексте пистма содержаться только пробелы, \n",
        "# а затем записи содержащие nan эначения\n",
        "spam_data = email_data[~email_data.email.str.strip().eq('')].dropna()"
      ]
    },
    {
      "cell_type": "markdown",
      "id": "2ca2fe88",
      "metadata": {
        "id": "2ca2fe88"
      },
      "source": [
        "Переводим данные в векторный вид:"
      ]
    },
    {
      "cell_type": "code",
      "execution_count": 7,
      "id": "29e9a37b",
      "metadata": {
        "id": "29e9a37b"
      },
      "outputs": [],
      "source": [
        "vectorizer = CountVectorizer()\n",
        "X = vectorizer.fit_transform(spam_data[\"email\"])"
      ]
    },
    {
      "cell_type": "markdown",
      "id": "88c8b726",
      "metadata": {
        "id": "88c8b726"
      },
      "source": [
        "Определите, сколько теперь признаков в нашем наборе данных:"
      ]
    },
    {
      "cell_type": "code",
      "execution_count": 8,
      "id": "f19c2a02",
      "metadata": {
        "id": "f19c2a02"
      },
      "outputs": [
        {
          "name": "stdout",
          "output_type": "stream",
          "text": [
            "В наборе данных 34116 признаков.\n"
          ]
        }
      ],
      "source": [
        "print(f'В наборе данных {X.shape[1]} признаков.')"
      ]
    },
    {
      "cell_type": "markdown",
      "id": "1803f282",
      "metadata": {
        "id": "1803f282"
      },
      "source": [
        "## Задание 3 (2 балла)"
      ]
    },
    {
      "cell_type": "markdown",
      "id": "39f400b7",
      "metadata": {
        "id": "39f400b7"
      },
      "source": [
        "Определите целевую переменную и признаки:"
      ]
    },
    {
      "cell_type": "code",
      "execution_count": 9,
      "id": "31f1acb6",
      "metadata": {
        "id": "31f1acb6"
      },
      "outputs": [],
      "source": [
        "y = spam_data['label']"
      ]
    },
    {
      "cell_type": "markdown",
      "id": "b20f273e",
      "metadata": {
        "id": "b20f273e"
      },
      "source": [
        "Разделите выборку на обучающую и тестовую, используя стратифицированное разбиение (параметр `stratify` установите в значение вектора ответов y) размер тестовой выборки (`test_size`) возьмите как 0.25, параметр `random_state` определите со значением 42:"
      ]
    },
    {
      "cell_type": "code",
      "execution_count": 10,
      "id": "96538fb6",
      "metadata": {
        "id": "96538fb6"
      },
      "outputs": [],
      "source": [
        "X_train, X_test, y_train, y_test = train_test_split(X, y, test_size=0.25, stratify=y, random_state=42)"
      ]
    },
    {
      "cell_type": "markdown",
      "id": "139dac3d",
      "metadata": {
        "id": "139dac3d"
      },
      "source": [
        "Рассчитайте среднее значение целевой переменной по тестовой выборке:"
      ]
    },
    {
      "cell_type": "code",
      "execution_count": 11,
      "id": "e9baf72d",
      "metadata": {
        "id": "e9baf72d"
      },
      "outputs": [
        {
          "data": {
            "text/plain": [
              "0.165"
            ]
          },
          "execution_count": 11,
          "metadata": {},
          "output_type": "execute_result"
        }
      ],
      "source": [
        "y_test.mean().round(3)"
      ]
    },
    {
      "cell_type": "markdown",
      "id": "710e0e94",
      "metadata": {
        "id": "710e0e94"
      },
      "source": [
        "## Задание 4 (3 балла)"
      ]
    },
    {
      "cell_type": "markdown",
      "id": "26cf6885",
      "metadata": {
        "id": "26cf6885"
      },
      "source": [
        "Определите и обучите подходящий алгоритм с параметром alpha = 0.01"
      ]
    },
    {
      "cell_type": "code",
      "execution_count": 12,
      "id": "4865dd78",
      "metadata": {
        "id": "4865dd78"
      },
      "outputs": [
        {
          "data": {
            "text/plain": [
              "ComplementNB(alpha=0.01)"
            ]
          },
          "execution_count": 12,
          "metadata": {},
          "output_type": "execute_result"
        }
      ],
      "source": [
        "model = ComplementNB(alpha=0.01)\n",
        "model.fit(X_train, y_train)"
      ]
    },
    {
      "cell_type": "markdown",
      "id": "d803fbe3",
      "metadata": {
        "id": "d803fbe3"
      },
      "source": [
        "Оцените результат с точки зрения всех известных вам метрик (не менее трёх):"
      ]
    },
    {
      "cell_type": "code",
      "execution_count": 13,
      "id": "b0bbc4d2",
      "metadata": {
        "id": "b0bbc4d2"
      },
      "outputs": [
        {
          "name": "stdout",
          "output_type": "stream",
          "text": [
            "Accuracy: 0.988\n",
            "Precision: 1.000\n",
            "Recall: 0.927\n",
            "F1 score: 0.962\n"
          ]
        }
      ],
      "source": [
        "y_pred = model.predict(X_test)\n",
        "\n",
        "print('Accuracy: {:.3f}'.format(metrics.accuracy_score(y_test, y_pred)))\n",
        "print('Precision: {:.3f}'.format(metrics.precision_score(y_test, y_pred)))\n",
        "print('Recall: {:.3f}'.format(metrics.recall_score(y_test, y_pred)))\n",
        "print('F1 score: {:.3f}'.format(metrics.f1_score(y_test, y_pred)))"
      ]
    },
    {
      "cell_type": "markdown",
      "id": "c85976d1",
      "metadata": {
        "id": "c85976d1"
      },
      "source": [
        "Нарисуйте ROC-кривую:"
      ]
    },
    {
      "cell_type": "code",
      "execution_count": 17,
      "id": "b4195126",
      "metadata": {
        "id": "b4195126"
      },
      "outputs": [
        {
          "data": {
            "application/vnd.plotly.v1+json": {
              "config": {
                "plotlyServerURL": "https://plot.ly"
              },
              "data": [
                {
                  "hovertemplate": "x=%{x}<br>y=%{y}<extra></extra>",
                  "legendgroup": "",
                  "line": {
                    "color": "#636efa",
                    "dash": "solid"
                  },
                  "marker": {
                    "symbol": "circle"
                  },
                  "mode": "markers+lines",
                  "name": "",
                  "orientation": "v",
                  "showlegend": false,
                  "type": "scatter",
                  "x": [
                    0,
                    0,
                    0,
                    0.001597444089456869,
                    0.001597444089456869,
                    0.003194888178913738,
                    0.003194888178913738,
                    0.006389776357827476,
                    0.006389776357827476,
                    0.01757188498402556,
                    0.020766773162939296,
                    0.022364217252396165,
                    0.027156549520766772,
                    0.054313099041533544,
                    0.054313099041533544,
                    0.07827476038338659,
                    0.07827476038338659,
                    0.46645367412140576,
                    0.46645367412140576,
                    0.9760383386581469,
                    1
                  ],
                  "xaxis": "x",
                  "y": [
                    0,
                    0.8629032258064516,
                    0.9435483870967742,
                    0.9435483870967742,
                    0.9596774193548387,
                    0.9596774193548387,
                    0.967741935483871,
                    0.967741935483871,
                    0.9758064516129032,
                    0.9758064516129032,
                    0.9758064516129032,
                    0.9758064516129032,
                    0.9758064516129032,
                    0.9758064516129032,
                    0.9838709677419355,
                    0.9838709677419355,
                    0.9919354838709677,
                    0.9919354838709677,
                    1,
                    1,
                    1
                  ],
                  "yaxis": "y"
                }
              ],
              "layout": {
                "annotations": [
                  {
                    "align": "center",
                    "ax": -2,
                    "bgcolor": "#166071",
                    "borderpad": 4,
                    "font": {
                      "color": "#ffffff",
                      "size": 12
                    },
                    "opacity": 0.7,
                    "showarrow": false,
                    "text": "значение auc: 0.995066",
                    "x": 0.9,
                    "y": 0.05
                  }
                ],
                "legend": {
                  "tracegroupgap": 0
                },
                "margin": {
                  "t": 60
                },
                "template": {
                  "data": {
                    "bar": [
                      {
                        "error_x": {
                          "color": "#2a3f5f"
                        },
                        "error_y": {
                          "color": "#2a3f5f"
                        },
                        "marker": {
                          "line": {
                            "color": "#E5ECF6",
                            "width": 0.5
                          },
                          "pattern": {
                            "fillmode": "overlay",
                            "size": 10,
                            "solidity": 0.2
                          }
                        },
                        "type": "bar"
                      }
                    ],
                    "barpolar": [
                      {
                        "marker": {
                          "line": {
                            "color": "#E5ECF6",
                            "width": 0.5
                          },
                          "pattern": {
                            "fillmode": "overlay",
                            "size": 10,
                            "solidity": 0.2
                          }
                        },
                        "type": "barpolar"
                      }
                    ],
                    "carpet": [
                      {
                        "aaxis": {
                          "endlinecolor": "#2a3f5f",
                          "gridcolor": "white",
                          "linecolor": "white",
                          "minorgridcolor": "white",
                          "startlinecolor": "#2a3f5f"
                        },
                        "baxis": {
                          "endlinecolor": "#2a3f5f",
                          "gridcolor": "white",
                          "linecolor": "white",
                          "minorgridcolor": "white",
                          "startlinecolor": "#2a3f5f"
                        },
                        "type": "carpet"
                      }
                    ],
                    "choropleth": [
                      {
                        "colorbar": {
                          "outlinewidth": 0,
                          "ticks": ""
                        },
                        "type": "choropleth"
                      }
                    ],
                    "contour": [
                      {
                        "colorbar": {
                          "outlinewidth": 0,
                          "ticks": ""
                        },
                        "colorscale": [
                          [
                            0,
                            "#0d0887"
                          ],
                          [
                            0.1111111111111111,
                            "#46039f"
                          ],
                          [
                            0.2222222222222222,
                            "#7201a8"
                          ],
                          [
                            0.3333333333333333,
                            "#9c179e"
                          ],
                          [
                            0.4444444444444444,
                            "#bd3786"
                          ],
                          [
                            0.5555555555555556,
                            "#d8576b"
                          ],
                          [
                            0.6666666666666666,
                            "#ed7953"
                          ],
                          [
                            0.7777777777777778,
                            "#fb9f3a"
                          ],
                          [
                            0.8888888888888888,
                            "#fdca26"
                          ],
                          [
                            1,
                            "#f0f921"
                          ]
                        ],
                        "type": "contour"
                      }
                    ],
                    "contourcarpet": [
                      {
                        "colorbar": {
                          "outlinewidth": 0,
                          "ticks": ""
                        },
                        "type": "contourcarpet"
                      }
                    ],
                    "heatmap": [
                      {
                        "colorbar": {
                          "outlinewidth": 0,
                          "ticks": ""
                        },
                        "colorscale": [
                          [
                            0,
                            "#0d0887"
                          ],
                          [
                            0.1111111111111111,
                            "#46039f"
                          ],
                          [
                            0.2222222222222222,
                            "#7201a8"
                          ],
                          [
                            0.3333333333333333,
                            "#9c179e"
                          ],
                          [
                            0.4444444444444444,
                            "#bd3786"
                          ],
                          [
                            0.5555555555555556,
                            "#d8576b"
                          ],
                          [
                            0.6666666666666666,
                            "#ed7953"
                          ],
                          [
                            0.7777777777777778,
                            "#fb9f3a"
                          ],
                          [
                            0.8888888888888888,
                            "#fdca26"
                          ],
                          [
                            1,
                            "#f0f921"
                          ]
                        ],
                        "type": "heatmap"
                      }
                    ],
                    "heatmapgl": [
                      {
                        "colorbar": {
                          "outlinewidth": 0,
                          "ticks": ""
                        },
                        "colorscale": [
                          [
                            0,
                            "#0d0887"
                          ],
                          [
                            0.1111111111111111,
                            "#46039f"
                          ],
                          [
                            0.2222222222222222,
                            "#7201a8"
                          ],
                          [
                            0.3333333333333333,
                            "#9c179e"
                          ],
                          [
                            0.4444444444444444,
                            "#bd3786"
                          ],
                          [
                            0.5555555555555556,
                            "#d8576b"
                          ],
                          [
                            0.6666666666666666,
                            "#ed7953"
                          ],
                          [
                            0.7777777777777778,
                            "#fb9f3a"
                          ],
                          [
                            0.8888888888888888,
                            "#fdca26"
                          ],
                          [
                            1,
                            "#f0f921"
                          ]
                        ],
                        "type": "heatmapgl"
                      }
                    ],
                    "histogram": [
                      {
                        "marker": {
                          "pattern": {
                            "fillmode": "overlay",
                            "size": 10,
                            "solidity": 0.2
                          }
                        },
                        "type": "histogram"
                      }
                    ],
                    "histogram2d": [
                      {
                        "colorbar": {
                          "outlinewidth": 0,
                          "ticks": ""
                        },
                        "colorscale": [
                          [
                            0,
                            "#0d0887"
                          ],
                          [
                            0.1111111111111111,
                            "#46039f"
                          ],
                          [
                            0.2222222222222222,
                            "#7201a8"
                          ],
                          [
                            0.3333333333333333,
                            "#9c179e"
                          ],
                          [
                            0.4444444444444444,
                            "#bd3786"
                          ],
                          [
                            0.5555555555555556,
                            "#d8576b"
                          ],
                          [
                            0.6666666666666666,
                            "#ed7953"
                          ],
                          [
                            0.7777777777777778,
                            "#fb9f3a"
                          ],
                          [
                            0.8888888888888888,
                            "#fdca26"
                          ],
                          [
                            1,
                            "#f0f921"
                          ]
                        ],
                        "type": "histogram2d"
                      }
                    ],
                    "histogram2dcontour": [
                      {
                        "colorbar": {
                          "outlinewidth": 0,
                          "ticks": ""
                        },
                        "colorscale": [
                          [
                            0,
                            "#0d0887"
                          ],
                          [
                            0.1111111111111111,
                            "#46039f"
                          ],
                          [
                            0.2222222222222222,
                            "#7201a8"
                          ],
                          [
                            0.3333333333333333,
                            "#9c179e"
                          ],
                          [
                            0.4444444444444444,
                            "#bd3786"
                          ],
                          [
                            0.5555555555555556,
                            "#d8576b"
                          ],
                          [
                            0.6666666666666666,
                            "#ed7953"
                          ],
                          [
                            0.7777777777777778,
                            "#fb9f3a"
                          ],
                          [
                            0.8888888888888888,
                            "#fdca26"
                          ],
                          [
                            1,
                            "#f0f921"
                          ]
                        ],
                        "type": "histogram2dcontour"
                      }
                    ],
                    "mesh3d": [
                      {
                        "colorbar": {
                          "outlinewidth": 0,
                          "ticks": ""
                        },
                        "type": "mesh3d"
                      }
                    ],
                    "parcoords": [
                      {
                        "line": {
                          "colorbar": {
                            "outlinewidth": 0,
                            "ticks": ""
                          }
                        },
                        "type": "parcoords"
                      }
                    ],
                    "pie": [
                      {
                        "automargin": true,
                        "type": "pie"
                      }
                    ],
                    "scatter": [
                      {
                        "fillpattern": {
                          "fillmode": "overlay",
                          "size": 10,
                          "solidity": 0.2
                        },
                        "type": "scatter"
                      }
                    ],
                    "scatter3d": [
                      {
                        "line": {
                          "colorbar": {
                            "outlinewidth": 0,
                            "ticks": ""
                          }
                        },
                        "marker": {
                          "colorbar": {
                            "outlinewidth": 0,
                            "ticks": ""
                          }
                        },
                        "type": "scatter3d"
                      }
                    ],
                    "scattercarpet": [
                      {
                        "marker": {
                          "colorbar": {
                            "outlinewidth": 0,
                            "ticks": ""
                          }
                        },
                        "type": "scattercarpet"
                      }
                    ],
                    "scattergeo": [
                      {
                        "marker": {
                          "colorbar": {
                            "outlinewidth": 0,
                            "ticks": ""
                          }
                        },
                        "type": "scattergeo"
                      }
                    ],
                    "scattergl": [
                      {
                        "marker": {
                          "colorbar": {
                            "outlinewidth": 0,
                            "ticks": ""
                          }
                        },
                        "type": "scattergl"
                      }
                    ],
                    "scattermapbox": [
                      {
                        "marker": {
                          "colorbar": {
                            "outlinewidth": 0,
                            "ticks": ""
                          }
                        },
                        "type": "scattermapbox"
                      }
                    ],
                    "scatterpolar": [
                      {
                        "marker": {
                          "colorbar": {
                            "outlinewidth": 0,
                            "ticks": ""
                          }
                        },
                        "type": "scatterpolar"
                      }
                    ],
                    "scatterpolargl": [
                      {
                        "marker": {
                          "colorbar": {
                            "outlinewidth": 0,
                            "ticks": ""
                          }
                        },
                        "type": "scatterpolargl"
                      }
                    ],
                    "scatterternary": [
                      {
                        "marker": {
                          "colorbar": {
                            "outlinewidth": 0,
                            "ticks": ""
                          }
                        },
                        "type": "scatterternary"
                      }
                    ],
                    "surface": [
                      {
                        "colorbar": {
                          "outlinewidth": 0,
                          "ticks": ""
                        },
                        "colorscale": [
                          [
                            0,
                            "#0d0887"
                          ],
                          [
                            0.1111111111111111,
                            "#46039f"
                          ],
                          [
                            0.2222222222222222,
                            "#7201a8"
                          ],
                          [
                            0.3333333333333333,
                            "#9c179e"
                          ],
                          [
                            0.4444444444444444,
                            "#bd3786"
                          ],
                          [
                            0.5555555555555556,
                            "#d8576b"
                          ],
                          [
                            0.6666666666666666,
                            "#ed7953"
                          ],
                          [
                            0.7777777777777778,
                            "#fb9f3a"
                          ],
                          [
                            0.8888888888888888,
                            "#fdca26"
                          ],
                          [
                            1,
                            "#f0f921"
                          ]
                        ],
                        "type": "surface"
                      }
                    ],
                    "table": [
                      {
                        "cells": {
                          "fill": {
                            "color": "#EBF0F8"
                          },
                          "line": {
                            "color": "white"
                          }
                        },
                        "header": {
                          "fill": {
                            "color": "#C8D4E3"
                          },
                          "line": {
                            "color": "white"
                          }
                        },
                        "type": "table"
                      }
                    ]
                  },
                  "layout": {
                    "annotationdefaults": {
                      "arrowcolor": "#2a3f5f",
                      "arrowhead": 0,
                      "arrowwidth": 1
                    },
                    "autotypenumbers": "strict",
                    "coloraxis": {
                      "colorbar": {
                        "outlinewidth": 0,
                        "ticks": ""
                      }
                    },
                    "colorscale": {
                      "diverging": [
                        [
                          0,
                          "#8e0152"
                        ],
                        [
                          0.1,
                          "#c51b7d"
                        ],
                        [
                          0.2,
                          "#de77ae"
                        ],
                        [
                          0.3,
                          "#f1b6da"
                        ],
                        [
                          0.4,
                          "#fde0ef"
                        ],
                        [
                          0.5,
                          "#f7f7f7"
                        ],
                        [
                          0.6,
                          "#e6f5d0"
                        ],
                        [
                          0.7,
                          "#b8e186"
                        ],
                        [
                          0.8,
                          "#7fbc41"
                        ],
                        [
                          0.9,
                          "#4d9221"
                        ],
                        [
                          1,
                          "#276419"
                        ]
                      ],
                      "sequential": [
                        [
                          0,
                          "#0d0887"
                        ],
                        [
                          0.1111111111111111,
                          "#46039f"
                        ],
                        [
                          0.2222222222222222,
                          "#7201a8"
                        ],
                        [
                          0.3333333333333333,
                          "#9c179e"
                        ],
                        [
                          0.4444444444444444,
                          "#bd3786"
                        ],
                        [
                          0.5555555555555556,
                          "#d8576b"
                        ],
                        [
                          0.6666666666666666,
                          "#ed7953"
                        ],
                        [
                          0.7777777777777778,
                          "#fb9f3a"
                        ],
                        [
                          0.8888888888888888,
                          "#fdca26"
                        ],
                        [
                          1,
                          "#f0f921"
                        ]
                      ],
                      "sequentialminus": [
                        [
                          0,
                          "#0d0887"
                        ],
                        [
                          0.1111111111111111,
                          "#46039f"
                        ],
                        [
                          0.2222222222222222,
                          "#7201a8"
                        ],
                        [
                          0.3333333333333333,
                          "#9c179e"
                        ],
                        [
                          0.4444444444444444,
                          "#bd3786"
                        ],
                        [
                          0.5555555555555556,
                          "#d8576b"
                        ],
                        [
                          0.6666666666666666,
                          "#ed7953"
                        ],
                        [
                          0.7777777777777778,
                          "#fb9f3a"
                        ],
                        [
                          0.8888888888888888,
                          "#fdca26"
                        ],
                        [
                          1,
                          "#f0f921"
                        ]
                      ]
                    },
                    "colorway": [
                      "#636efa",
                      "#EF553B",
                      "#00cc96",
                      "#ab63fa",
                      "#FFA15A",
                      "#19d3f3",
                      "#FF6692",
                      "#B6E880",
                      "#FF97FF",
                      "#FECB52"
                    ],
                    "font": {
                      "color": "#2a3f5f"
                    },
                    "geo": {
                      "bgcolor": "white",
                      "lakecolor": "white",
                      "landcolor": "#E5ECF6",
                      "showlakes": true,
                      "showland": true,
                      "subunitcolor": "white"
                    },
                    "hoverlabel": {
                      "align": "left"
                    },
                    "hovermode": "closest",
                    "mapbox": {
                      "style": "light"
                    },
                    "paper_bgcolor": "white",
                    "plot_bgcolor": "#E5ECF6",
                    "polar": {
                      "angularaxis": {
                        "gridcolor": "white",
                        "linecolor": "white",
                        "ticks": ""
                      },
                      "bgcolor": "#E5ECF6",
                      "radialaxis": {
                        "gridcolor": "white",
                        "linecolor": "white",
                        "ticks": ""
                      }
                    },
                    "scene": {
                      "xaxis": {
                        "backgroundcolor": "#E5ECF6",
                        "gridcolor": "white",
                        "gridwidth": 2,
                        "linecolor": "white",
                        "showbackground": true,
                        "ticks": "",
                        "zerolinecolor": "white"
                      },
                      "yaxis": {
                        "backgroundcolor": "#E5ECF6",
                        "gridcolor": "white",
                        "gridwidth": 2,
                        "linecolor": "white",
                        "showbackground": true,
                        "ticks": "",
                        "zerolinecolor": "white"
                      },
                      "zaxis": {
                        "backgroundcolor": "#E5ECF6",
                        "gridcolor": "white",
                        "gridwidth": 2,
                        "linecolor": "white",
                        "showbackground": true,
                        "ticks": "",
                        "zerolinecolor": "white"
                      }
                    },
                    "shapedefaults": {
                      "line": {
                        "color": "#2a3f5f"
                      }
                    },
                    "ternary": {
                      "aaxis": {
                        "gridcolor": "white",
                        "linecolor": "white",
                        "ticks": ""
                      },
                      "baxis": {
                        "gridcolor": "white",
                        "linecolor": "white",
                        "ticks": ""
                      },
                      "bgcolor": "#E5ECF6",
                      "caxis": {
                        "gridcolor": "white",
                        "linecolor": "white",
                        "ticks": ""
                      }
                    },
                    "title": {
                      "x": 0.05
                    },
                    "xaxis": {
                      "automargin": true,
                      "gridcolor": "white",
                      "linecolor": "white",
                      "ticks": "",
                      "title": {
                        "standoff": 15
                      },
                      "zerolinecolor": "white",
                      "zerolinewidth": 2
                    },
                    "yaxis": {
                      "automargin": true,
                      "gridcolor": "white",
                      "linecolor": "white",
                      "ticks": "",
                      "title": {
                        "standoff": 15
                      },
                      "zerolinecolor": "white",
                      "zerolinewidth": 2
                    }
                  }
                },
                "title": {
                  "text": "ROC кривая для текущей модели"
                },
                "xaxis": {
                  "anchor": "y",
                  "domain": [
                    0,
                    1
                  ],
                  "title": {
                    "text": "False positive rate"
                  }
                },
                "yaxis": {
                  "anchor": "x",
                  "domain": [
                    0,
                    1
                  ],
                  "title": {
                    "text": "True positive rate"
                  }
                }
              }
            }
          },
          "metadata": {},
          "output_type": "display_data"
        }
      ],
      "source": [
        "# получим предсказание вероятности правильного определения спам/не спам\n",
        "# и на этих жанных построим ROC кривую\n",
        "y_pred_proba = model.predict_proba(X_test)[:,1]\n",
        "false_rate, true_rate, _ = metrics.roc_curve(y_test, y_pred_proba)\n",
        "auc = metrics.roc_auc_score(y_test, y_pred_proba)\n",
        "\n",
        "\n",
        "fig = px.line(x=false_rate, \n",
        "              y=true_rate,\n",
        "              markers=True\n",
        "              )\n",
        "fig.update_layout(title='ROC кривая для текущей модели',\n",
        "                   xaxis_title='False positive rate',\n",
        "                   yaxis_title='True positive rate')\n",
        "fig.add_annotation(\n",
        "        x=.9,\n",
        "        y=.05,\n",
        "        text=f\"значение auc: {round(auc,6)}\",\n",
        "        font=dict(\n",
        "            size=12,\n",
        "            color=\"#ffffff\"\n",
        "            ),\n",
        "        align=\"center\",\n",
        "        ax=-2,\n",
        "        borderpad=4,\n",
        "        bgcolor=\"#166071\",\n",
        "        opacity=0.7,\n",
        "        showarrow=False\n",
        "        )\n",
        "\n",
        "fig.show()"
      ]
    },
    {
      "cell_type": "markdown",
      "id": "cf0bb49b",
      "metadata": {
        "id": "cf0bb49b"
      },
      "source": [
        "## Задание 5 (3 балла)"
      ]
    },
    {
      "cell_type": "markdown",
      "id": "30b7a0ae",
      "metadata": {
        "id": "30b7a0ae"
      },
      "source": [
        "Переберите несколько значений alpha с помощью кросс-валидации. Оцените, зависит ли от этого параметра качество классификации."
      ]
    },
    {
      "cell_type": "code",
      "execution_count": 15,
      "id": "3513d907",
      "metadata": {
        "id": "3513d907"
      },
      "outputs": [
        {
          "name": "stdout",
          "output_type": "stream",
          "text": [
            "Наилучшие значения гиперпараметров: {'alpha': 0.435}\n"
          ]
        }
      ],
      "source": [
        "# создадим диапазон для параметра alpha, \n",
        "# с последующим использованием в подборе гиперпараметров модели\n",
        "range_ = list(map(lambda x : round(x/100000,4), list(range(0, 100010, 100))[::-1]))\n",
        "param_grid = {'alpha': range_}\n",
        "\n",
        "grid_search = GridSearchCV(\n",
        "    estimator=model,\n",
        "    param_grid=param_grid,\n",
        "    cv=5,\n",
        "    scoring='accuracy',\n",
        "    n_jobs = -1\n",
        ")\n",
        "\n",
        "grid_search.fit(X_train, y_train)\n",
        "y_test_pred = grid_search.predict(X_test)\n",
        "print(\"Наилучшие значения гиперпараметров: {}\".format(max_alpha := grid_search.best_params_))"
      ]
    },
    {
      "cell_type": "code",
      "execution_count": 16,
      "id": "8dec6779",
      "metadata": {},
      "outputs": [
        {
          "data": {
            "application/vnd.plotly.v1+json": {
              "config": {
                "plotlyServerURL": "https://plot.ly"
              },
              "data": [
                {
                  "hovertemplate": "param_alpha=%{x}<br>mean_test_score=%{y}<extra></extra>",
                  "legendgroup": "",
                  "line": {
                    "color": "#636efa",
                    "dash": "solid"
                  },
                  "marker": {
                    "symbol": "circle"
                  },
                  "mode": "lines",
                  "name": "",
                  "showlegend": false,
                  "type": "scattergl",
                  "x": [
                    1,
                    0.999,
                    0.998,
                    0.997,
                    0.996,
                    0.995,
                    0.994,
                    0.993,
                    0.992,
                    0.991,
                    0.99,
                    0.989,
                    0.988,
                    0.987,
                    0.986,
                    0.985,
                    0.984,
                    0.983,
                    0.982,
                    0.981,
                    0.98,
                    0.979,
                    0.978,
                    0.977,
                    0.976,
                    0.975,
                    0.974,
                    0.973,
                    0.972,
                    0.971,
                    0.97,
                    0.969,
                    0.968,
                    0.967,
                    0.966,
                    0.965,
                    0.964,
                    0.963,
                    0.962,
                    0.961,
                    0.96,
                    0.959,
                    0.958,
                    0.957,
                    0.956,
                    0.955,
                    0.954,
                    0.953,
                    0.952,
                    0.951,
                    0.95,
                    0.949,
                    0.948,
                    0.947,
                    0.946,
                    0.945,
                    0.944,
                    0.943,
                    0.942,
                    0.941,
                    0.94,
                    0.939,
                    0.938,
                    0.937,
                    0.936,
                    0.935,
                    0.934,
                    0.933,
                    0.932,
                    0.931,
                    0.93,
                    0.929,
                    0.928,
                    0.927,
                    0.926,
                    0.925,
                    0.924,
                    0.923,
                    0.922,
                    0.921,
                    0.92,
                    0.919,
                    0.918,
                    0.917,
                    0.916,
                    0.915,
                    0.914,
                    0.913,
                    0.912,
                    0.911,
                    0.91,
                    0.909,
                    0.908,
                    0.907,
                    0.906,
                    0.905,
                    0.904,
                    0.903,
                    0.902,
                    0.901,
                    0.9,
                    0.899,
                    0.898,
                    0.897,
                    0.896,
                    0.895,
                    0.894,
                    0.893,
                    0.892,
                    0.891,
                    0.89,
                    0.889,
                    0.888,
                    0.887,
                    0.886,
                    0.885,
                    0.884,
                    0.883,
                    0.882,
                    0.881,
                    0.88,
                    0.879,
                    0.878,
                    0.877,
                    0.876,
                    0.875,
                    0.874,
                    0.873,
                    0.872,
                    0.871,
                    0.87,
                    0.869,
                    0.868,
                    0.867,
                    0.866,
                    0.865,
                    0.864,
                    0.863,
                    0.862,
                    0.861,
                    0.86,
                    0.859,
                    0.858,
                    0.857,
                    0.856,
                    0.855,
                    0.854,
                    0.853,
                    0.852,
                    0.851,
                    0.85,
                    0.849,
                    0.848,
                    0.847,
                    0.846,
                    0.845,
                    0.844,
                    0.843,
                    0.842,
                    0.841,
                    0.84,
                    0.839,
                    0.838,
                    0.837,
                    0.836,
                    0.835,
                    0.834,
                    0.833,
                    0.832,
                    0.831,
                    0.83,
                    0.829,
                    0.828,
                    0.827,
                    0.826,
                    0.825,
                    0.824,
                    0.823,
                    0.822,
                    0.821,
                    0.82,
                    0.819,
                    0.818,
                    0.817,
                    0.816,
                    0.815,
                    0.814,
                    0.813,
                    0.812,
                    0.811,
                    0.81,
                    0.809,
                    0.808,
                    0.807,
                    0.806,
                    0.805,
                    0.804,
                    0.803,
                    0.802,
                    0.801,
                    0.8,
                    0.799,
                    0.798,
                    0.797,
                    0.796,
                    0.795,
                    0.794,
                    0.793,
                    0.792,
                    0.791,
                    0.79,
                    0.789,
                    0.788,
                    0.787,
                    0.786,
                    0.785,
                    0.784,
                    0.783,
                    0.782,
                    0.781,
                    0.78,
                    0.779,
                    0.778,
                    0.777,
                    0.776,
                    0.775,
                    0.774,
                    0.773,
                    0.772,
                    0.771,
                    0.77,
                    0.769,
                    0.768,
                    0.767,
                    0.766,
                    0.765,
                    0.764,
                    0.763,
                    0.762,
                    0.761,
                    0.76,
                    0.759,
                    0.758,
                    0.757,
                    0.756,
                    0.755,
                    0.754,
                    0.753,
                    0.752,
                    0.751,
                    0.75,
                    0.749,
                    0.748,
                    0.747,
                    0.746,
                    0.745,
                    0.744,
                    0.743,
                    0.742,
                    0.741,
                    0.74,
                    0.739,
                    0.738,
                    0.737,
                    0.736,
                    0.735,
                    0.734,
                    0.733,
                    0.732,
                    0.731,
                    0.73,
                    0.729,
                    0.728,
                    0.727,
                    0.726,
                    0.725,
                    0.724,
                    0.723,
                    0.722,
                    0.721,
                    0.72,
                    0.719,
                    0.718,
                    0.717,
                    0.716,
                    0.715,
                    0.714,
                    0.713,
                    0.712,
                    0.711,
                    0.71,
                    0.709,
                    0.708,
                    0.707,
                    0.706,
                    0.705,
                    0.704,
                    0.703,
                    0.702,
                    0.701,
                    0.7,
                    0.699,
                    0.698,
                    0.697,
                    0.696,
                    0.695,
                    0.694,
                    0.693,
                    0.692,
                    0.691,
                    0.69,
                    0.689,
                    0.688,
                    0.687,
                    0.686,
                    0.685,
                    0.684,
                    0.683,
                    0.682,
                    0.681,
                    0.68,
                    0.679,
                    0.678,
                    0.677,
                    0.676,
                    0.675,
                    0.674,
                    0.673,
                    0.672,
                    0.671,
                    0.67,
                    0.669,
                    0.668,
                    0.667,
                    0.666,
                    0.665,
                    0.664,
                    0.663,
                    0.662,
                    0.661,
                    0.66,
                    0.659,
                    0.658,
                    0.657,
                    0.656,
                    0.655,
                    0.654,
                    0.653,
                    0.652,
                    0.651,
                    0.65,
                    0.649,
                    0.648,
                    0.647,
                    0.646,
                    0.645,
                    0.644,
                    0.643,
                    0.642,
                    0.641,
                    0.64,
                    0.639,
                    0.638,
                    0.637,
                    0.636,
                    0.635,
                    0.634,
                    0.633,
                    0.632,
                    0.631,
                    0.63,
                    0.629,
                    0.628,
                    0.627,
                    0.626,
                    0.625,
                    0.624,
                    0.623,
                    0.622,
                    0.621,
                    0.62,
                    0.619,
                    0.618,
                    0.617,
                    0.616,
                    0.615,
                    0.614,
                    0.613,
                    0.612,
                    0.611,
                    0.61,
                    0.609,
                    0.608,
                    0.607,
                    0.606,
                    0.605,
                    0.604,
                    0.603,
                    0.602,
                    0.601,
                    0.6,
                    0.599,
                    0.598,
                    0.597,
                    0.596,
                    0.595,
                    0.594,
                    0.593,
                    0.592,
                    0.591,
                    0.59,
                    0.589,
                    0.588,
                    0.587,
                    0.586,
                    0.585,
                    0.584,
                    0.583,
                    0.582,
                    0.581,
                    0.58,
                    0.579,
                    0.578,
                    0.577,
                    0.576,
                    0.575,
                    0.574,
                    0.573,
                    0.572,
                    0.571,
                    0.57,
                    0.569,
                    0.568,
                    0.567,
                    0.566,
                    0.565,
                    0.564,
                    0.563,
                    0.562,
                    0.561,
                    0.56,
                    0.559,
                    0.558,
                    0.557,
                    0.556,
                    0.555,
                    0.554,
                    0.553,
                    0.552,
                    0.551,
                    0.55,
                    0.549,
                    0.548,
                    0.547,
                    0.546,
                    0.545,
                    0.544,
                    0.543,
                    0.542,
                    0.541,
                    0.54,
                    0.539,
                    0.538,
                    0.537,
                    0.536,
                    0.535,
                    0.534,
                    0.533,
                    0.532,
                    0.531,
                    0.53,
                    0.529,
                    0.528,
                    0.527,
                    0.526,
                    0.525,
                    0.524,
                    0.523,
                    0.522,
                    0.521,
                    0.52,
                    0.519,
                    0.518,
                    0.517,
                    0.516,
                    0.515,
                    0.514,
                    0.513,
                    0.512,
                    0.511,
                    0.51,
                    0.509,
                    0.508,
                    0.507,
                    0.506,
                    0.505,
                    0.504,
                    0.503,
                    0.502,
                    0.501,
                    0.5,
                    0.499,
                    0.498,
                    0.497,
                    0.496,
                    0.495,
                    0.494,
                    0.493,
                    0.492,
                    0.491,
                    0.49,
                    0.489,
                    0.488,
                    0.487,
                    0.486,
                    0.485,
                    0.484,
                    0.483,
                    0.482,
                    0.481,
                    0.48,
                    0.479,
                    0.478,
                    0.477,
                    0.476,
                    0.475,
                    0.474,
                    0.473,
                    0.472,
                    0.471,
                    0.47,
                    0.469,
                    0.468,
                    0.467,
                    0.466,
                    0.465,
                    0.464,
                    0.463,
                    0.462,
                    0.461,
                    0.46,
                    0.459,
                    0.458,
                    0.457,
                    0.456,
                    0.455,
                    0.454,
                    0.453,
                    0.452,
                    0.451,
                    0.45,
                    0.449,
                    0.448,
                    0.447,
                    0.446,
                    0.445,
                    0.444,
                    0.443,
                    0.442,
                    0.441,
                    0.44,
                    0.439,
                    0.438,
                    0.437,
                    0.436,
                    0.435,
                    0.434,
                    0.433,
                    0.432,
                    0.431,
                    0.43,
                    0.429,
                    0.428,
                    0.427,
                    0.426,
                    0.425,
                    0.424,
                    0.423,
                    0.422,
                    0.421,
                    0.42,
                    0.419,
                    0.418,
                    0.417,
                    0.416,
                    0.415,
                    0.414,
                    0.413,
                    0.412,
                    0.411,
                    0.41,
                    0.409,
                    0.408,
                    0.407,
                    0.406,
                    0.405,
                    0.404,
                    0.403,
                    0.402,
                    0.401,
                    0.4,
                    0.399,
                    0.398,
                    0.397,
                    0.396,
                    0.395,
                    0.394,
                    0.393,
                    0.392,
                    0.391,
                    0.39,
                    0.389,
                    0.388,
                    0.387,
                    0.386,
                    0.385,
                    0.384,
                    0.383,
                    0.382,
                    0.381,
                    0.38,
                    0.379,
                    0.378,
                    0.377,
                    0.376,
                    0.375,
                    0.374,
                    0.373,
                    0.372,
                    0.371,
                    0.37,
                    0.369,
                    0.368,
                    0.367,
                    0.366,
                    0.365,
                    0.364,
                    0.363,
                    0.362,
                    0.361,
                    0.36,
                    0.359,
                    0.358,
                    0.357,
                    0.356,
                    0.355,
                    0.354,
                    0.353,
                    0.352,
                    0.351,
                    0.35,
                    0.349,
                    0.348,
                    0.347,
                    0.346,
                    0.345,
                    0.344,
                    0.343,
                    0.342,
                    0.341,
                    0.34,
                    0.339,
                    0.338,
                    0.337,
                    0.336,
                    0.335,
                    0.334,
                    0.333,
                    0.332,
                    0.331,
                    0.33,
                    0.329,
                    0.328,
                    0.327,
                    0.326,
                    0.325,
                    0.324,
                    0.323,
                    0.322,
                    0.321,
                    0.32,
                    0.319,
                    0.318,
                    0.317,
                    0.316,
                    0.315,
                    0.314,
                    0.313,
                    0.312,
                    0.311,
                    0.31,
                    0.309,
                    0.308,
                    0.307,
                    0.306,
                    0.305,
                    0.304,
                    0.303,
                    0.302,
                    0.301,
                    0.3,
                    0.299,
                    0.298,
                    0.297,
                    0.296,
                    0.295,
                    0.294,
                    0.293,
                    0.292,
                    0.291,
                    0.29,
                    0.289,
                    0.288,
                    0.287,
                    0.286,
                    0.285,
                    0.284,
                    0.283,
                    0.282,
                    0.281,
                    0.28,
                    0.279,
                    0.278,
                    0.277,
                    0.276,
                    0.275,
                    0.274,
                    0.273,
                    0.272,
                    0.271,
                    0.27,
                    0.269,
                    0.268,
                    0.267,
                    0.266,
                    0.265,
                    0.264,
                    0.263,
                    0.262,
                    0.261,
                    0.26,
                    0.259,
                    0.258,
                    0.257,
                    0.256,
                    0.255,
                    0.254,
                    0.253,
                    0.252,
                    0.251,
                    0.25,
                    0.249,
                    0.248,
                    0.247,
                    0.246,
                    0.245,
                    0.244,
                    0.243,
                    0.242,
                    0.241,
                    0.24,
                    0.239,
                    0.238,
                    0.237,
                    0.236,
                    0.235,
                    0.234,
                    0.233,
                    0.232,
                    0.231,
                    0.23,
                    0.229,
                    0.228,
                    0.227,
                    0.226,
                    0.225,
                    0.224,
                    0.223,
                    0.222,
                    0.221,
                    0.22,
                    0.219,
                    0.218,
                    0.217,
                    0.216,
                    0.215,
                    0.214,
                    0.213,
                    0.212,
                    0.211,
                    0.21,
                    0.209,
                    0.208,
                    0.207,
                    0.206,
                    0.205,
                    0.204,
                    0.203,
                    0.202,
                    0.201,
                    0.2,
                    0.199,
                    0.198,
                    0.197,
                    0.196,
                    0.195,
                    0.194,
                    0.193,
                    0.192,
                    0.191,
                    0.19,
                    0.189,
                    0.188,
                    0.187,
                    0.186,
                    0.185,
                    0.184,
                    0.183,
                    0.182,
                    0.181,
                    0.18,
                    0.179,
                    0.178,
                    0.177,
                    0.176,
                    0.175,
                    0.174,
                    0.173,
                    0.172,
                    0.171,
                    0.17,
                    0.169,
                    0.168,
                    0.167,
                    0.166,
                    0.165,
                    0.164,
                    0.163,
                    0.162,
                    0.161,
                    0.16,
                    0.159,
                    0.158,
                    0.157,
                    0.156,
                    0.155,
                    0.154,
                    0.153,
                    0.152,
                    0.151,
                    0.15,
                    0.149,
                    0.148,
                    0.147,
                    0.146,
                    0.145,
                    0.144,
                    0.143,
                    0.142,
                    0.141,
                    0.14,
                    0.139,
                    0.138,
                    0.137,
                    0.136,
                    0.135,
                    0.134,
                    0.133,
                    0.132,
                    0.131,
                    0.13,
                    0.129,
                    0.128,
                    0.127,
                    0.126,
                    0.125,
                    0.124,
                    0.123,
                    0.122,
                    0.121,
                    0.12,
                    0.119,
                    0.118,
                    0.117,
                    0.116,
                    0.115,
                    0.114,
                    0.113,
                    0.112,
                    0.111,
                    0.11,
                    0.109,
                    0.108,
                    0.107,
                    0.106,
                    0.105,
                    0.104,
                    0.103,
                    0.102,
                    0.101,
                    0.1,
                    0.099,
                    0.098,
                    0.097,
                    0.096,
                    0.095,
                    0.094,
                    0.093,
                    0.092,
                    0.091,
                    0.09,
                    0.089,
                    0.088,
                    0.087,
                    0.086,
                    0.085,
                    0.084,
                    0.083,
                    0.082,
                    0.081,
                    0.08,
                    0.079,
                    0.078,
                    0.077,
                    0.076,
                    0.075,
                    0.074,
                    0.073,
                    0.072,
                    0.071,
                    0.07,
                    0.069,
                    0.068,
                    0.067,
                    0.066,
                    0.065,
                    0.064,
                    0.063,
                    0.062,
                    0.061,
                    0.06,
                    0.059,
                    0.058,
                    0.057,
                    0.056,
                    0.055,
                    0.054,
                    0.053,
                    0.052,
                    0.051,
                    0.05,
                    0.049,
                    0.048,
                    0.047,
                    0.046,
                    0.045,
                    0.044,
                    0.043,
                    0.042,
                    0.041,
                    0.04,
                    0.039,
                    0.038,
                    0.037,
                    0.036,
                    0.035,
                    0.034,
                    0.033,
                    0.032,
                    0.031,
                    0.03,
                    0.029,
                    0.028,
                    0.027,
                    0.026,
                    0.025,
                    0.024,
                    0.023,
                    0.022,
                    0.021,
                    0.02,
                    0.019,
                    0.018,
                    0.017,
                    0.016,
                    0.015,
                    0.014,
                    0.013,
                    0.012,
                    0.011,
                    0.01,
                    0.009,
                    0.008,
                    0.007,
                    0.006,
                    0.005,
                    0.004,
                    0.003,
                    0.002,
                    0.001,
                    0
                  ],
                  "xaxis": "x",
                  "y": [
                    0.9902103439742639,
                    0.9902103439742639,
                    0.9902103439742639,
                    0.9902103439742639,
                    0.9902103439742639,
                    0.9902103439742639,
                    0.9902103439742639,
                    0.9902103439742639,
                    0.9902103439742639,
                    0.9902103439742639,
                    0.9902103439742639,
                    0.9902103439742639,
                    0.9902103439742639,
                    0.9902103439742639,
                    0.9902103439742639,
                    0.9902103439742639,
                    0.9902103439742639,
                    0.9902103439742639,
                    0.9902103439742639,
                    0.9902103439742639,
                    0.9902103439742639,
                    0.9902103439742639,
                    0.9902103439742639,
                    0.9906557782727049,
                    0.9906557782727049,
                    0.9906557782727049,
                    0.9906557782727049,
                    0.9906557782727049,
                    0.9906557782727049,
                    0.9906557782727049,
                    0.9906557782727049,
                    0.9906557782727049,
                    0.9906557782727049,
                    0.9906557782727049,
                    0.9906557782727049,
                    0.9906557782727049,
                    0.9906557782727049,
                    0.9906557782727049,
                    0.9906557782727049,
                    0.9906557782727049,
                    0.9906557782727049,
                    0.9906557782727049,
                    0.9906557782727049,
                    0.9906557782727049,
                    0.9906557782727049,
                    0.9906557782727049,
                    0.9906557782727049,
                    0.9906557782727049,
                    0.9906557782727049,
                    0.9906557782727049,
                    0.9906557782727049,
                    0.9906557782727049,
                    0.9906557782727049,
                    0.9906557782727049,
                    0.9906557782727049,
                    0.9906557782727049,
                    0.9906557782727049,
                    0.9906557782727049,
                    0.9906557782727049,
                    0.9906557782727049,
                    0.9906557782727049,
                    0.9906557782727049,
                    0.9906557782727049,
                    0.9906557782727049,
                    0.9906557782727049,
                    0.9906557782727049,
                    0.9906557782727049,
                    0.9906557782727049,
                    0.9906557782727049,
                    0.9906557782727049,
                    0.9906557782727049,
                    0.9906557782727049,
                    0.9906557782727049,
                    0.9906557782727049,
                    0.9906557782727049,
                    0.9906557782727049,
                    0.9906557782727049,
                    0.9906557782727049,
                    0.9906557782727049,
                    0.9906557782727049,
                    0.9906557782727049,
                    0.9906557782727049,
                    0.9906557782727049,
                    0.9906557782727049,
                    0.9906557782727049,
                    0.9902103439742639,
                    0.9902103439742639,
                    0.9902103439742639,
                    0.9902103439742639,
                    0.9902103439742639,
                    0.9902103439742639,
                    0.9902103439742639,
                    0.9902103439742639,
                    0.9902103439742639,
                    0.9902103439742639,
                    0.9902103439742639,
                    0.9902103439742639,
                    0.9902103439742639,
                    0.9902103439742639,
                    0.9902103439742639,
                    0.9902103439742639,
                    0.9902103439742639,
                    0.9902103439742639,
                    0.9902103439742639,
                    0.9902103439742639,
                    0.9902103439742639,
                    0.9902103439742639,
                    0.9902103439742639,
                    0.9902103439742639,
                    0.9902103439742639,
                    0.9902103439742639,
                    0.9902103439742639,
                    0.9902103439742639,
                    0.9902103439742639,
                    0.9902103439742639,
                    0.9902103439742639,
                    0.9902103439742639,
                    0.9902103439742639,
                    0.9902103439742639,
                    0.9902103439742639,
                    0.9902103439742639,
                    0.9902103439742639,
                    0.9902103439742639,
                    0.9902103439742639,
                    0.9902103439742639,
                    0.9902103439742639,
                    0.9902103439742639,
                    0.9902103439742639,
                    0.9902103439742639,
                    0.9902103439742639,
                    0.9902103439742639,
                    0.9902103439742639,
                    0.9902103439742639,
                    0.9902103439742639,
                    0.9902103439742639,
                    0.9902103439742639,
                    0.9902103439742639,
                    0.9902103439742639,
                    0.9902103439742639,
                    0.9902103439742639,
                    0.9902103439742639,
                    0.9906557782727049,
                    0.9906557782727049,
                    0.9906557782727049,
                    0.9906557782727049,
                    0.9906557782727049,
                    0.9906557782727049,
                    0.9906557782727049,
                    0.9906557782727049,
                    0.9906557782727049,
                    0.9902103439742639,
                    0.9902103439742639,
                    0.9902103439742639,
                    0.9902103439742639,
                    0.9902103439742639,
                    0.9902103439742639,
                    0.9902103439742639,
                    0.9902103439742639,
                    0.9902103439742639,
                    0.9902103439742639,
                    0.9902103439742639,
                    0.9902103439742639,
                    0.9902103439742639,
                    0.9902103439742639,
                    0.9902103439742639,
                    0.9902103439742639,
                    0.9902103439742639,
                    0.9902103439742639,
                    0.9902103439742639,
                    0.9902103439742639,
                    0.9902103439742639,
                    0.9902103439742639,
                    0.9902103439742639,
                    0.9902103439742639,
                    0.9902103439742639,
                    0.9902103439742639,
                    0.9902103439742639,
                    0.9902103439742639,
                    0.9902103439742639,
                    0.9902103439742639,
                    0.9902103439742639,
                    0.9906557782727049,
                    0.9906557782727049,
                    0.9906557782727049,
                    0.9906557782727049,
                    0.9906557782727049,
                    0.9906557782727049,
                    0.9906557782727049,
                    0.9906557782727049,
                    0.9906557782727049,
                    0.9906557782727049,
                    0.9906557782727049,
                    0.9906557782727049,
                    0.9906557782727049,
                    0.9906557782727049,
                    0.9906557782727049,
                    0.9906557782727049,
                    0.9906557782727049,
                    0.9906557782727049,
                    0.9906557782727049,
                    0.9906557782727049,
                    0.9906557782727049,
                    0.9906557782727049,
                    0.9906557782727049,
                    0.9906557782727049,
                    0.9906557782727049,
                    0.9906557782727049,
                    0.9906557782727049,
                    0.9906557782727049,
                    0.9906557782727049,
                    0.9906557782727049,
                    0.9906557782727049,
                    0.9906557782727049,
                    0.9906557782727049,
                    0.9906557782727049,
                    0.9906557782727049,
                    0.9906557782727049,
                    0.9906557782727049,
                    0.9906557782727049,
                    0.9906557782727049,
                    0.9906557782727049,
                    0.9906557782727049,
                    0.9906557782727049,
                    0.9906557782727049,
                    0.9906557782727049,
                    0.9906557782727049,
                    0.9906557782727049,
                    0.9906557782727049,
                    0.9906557782727049,
                    0.9906557782727049,
                    0.9906557782727049,
                    0.9906557782727049,
                    0.9906557782727049,
                    0.9906557782727049,
                    0.9906557782727049,
                    0.9906557782727049,
                    0.9906557782727049,
                    0.9906557782727049,
                    0.9906557782727049,
                    0.9906557782727049,
                    0.9906557782727049,
                    0.9906557782727049,
                    0.9906557782727049,
                    0.9906557782727049,
                    0.9906557782727049,
                    0.9906557782727049,
                    0.9906557782727049,
                    0.9906557782727049,
                    0.9906557782727049,
                    0.9906557782727049,
                    0.9906557782727049,
                    0.9906557782727049,
                    0.9906557782727049,
                    0.9906557782727049,
                    0.9906557782727049,
                    0.9906557782727049,
                    0.9906557782727049,
                    0.9906557782727049,
                    0.9906557782727049,
                    0.9906557782727049,
                    0.9906557782727049,
                    0.9906557782727049,
                    0.9906557782727049,
                    0.9906557782727049,
                    0.9906557782727049,
                    0.9906557782727049,
                    0.9906557782727049,
                    0.9906557782727049,
                    0.9906557782727049,
                    0.9906557782727049,
                    0.9906557782727049,
                    0.9906557782727049,
                    0.9906557782727049,
                    0.9906557782727049,
                    0.9906557782727049,
                    0.9906557782727049,
                    0.9906557782727049,
                    0.9906557782727049,
                    0.9906557782727049,
                    0.9906557782727049,
                    0.9906557782727049,
                    0.9906557782727049,
                    0.9906557782727049,
                    0.9906557782727049,
                    0.9906557782727049,
                    0.9906557782727049,
                    0.9906557782727049,
                    0.9906557782727049,
                    0.9906557782727049,
                    0.9906557782727049,
                    0.9906557782727049,
                    0.9906557782727049,
                    0.9906557782727049,
                    0.9906557782727049,
                    0.9906557782727049,
                    0.9906557782727049,
                    0.9906557782727049,
                    0.9906557782727049,
                    0.9906557782727049,
                    0.9906557782727049,
                    0.9906557782727049,
                    0.9906557782727049,
                    0.9906557782727049,
                    0.9906557782727049,
                    0.9906557782727049,
                    0.9906557782727049,
                    0.9906557782727049,
                    0.9906557782727049,
                    0.9902103439742639,
                    0.9902103439742639,
                    0.9902103439742639,
                    0.9902103439742639,
                    0.9902103439742639,
                    0.9906547884187082,
                    0.9906547884187082,
                    0.9906547884187082,
                    0.9906547884187082,
                    0.9906547884187082,
                    0.9906547884187082,
                    0.9906547884187082,
                    0.9906547884187082,
                    0.9906547884187082,
                    0.9906547884187082,
                    0.9906547884187082,
                    0.9906547884187082,
                    0.9906547884187082,
                    0.9906547884187082,
                    0.9906547884187082,
                    0.9906547884187082,
                    0.9906547884187082,
                    0.9906547884187082,
                    0.9906547884187082,
                    0.9906547884187082,
                    0.9906547884187082,
                    0.9906547884187082,
                    0.9906547884187082,
                    0.9906547884187082,
                    0.9906547884187082,
                    0.9906547884187082,
                    0.9906547884187082,
                    0.9906547884187082,
                    0.9906547884187082,
                    0.9906547884187082,
                    0.9910992328631527,
                    0.9910992328631527,
                    0.9910992328631527,
                    0.9910992328631527,
                    0.9910992328631527,
                    0.9910992328631527,
                    0.9910992328631527,
                    0.9910992328631527,
                    0.9910992328631527,
                    0.9910992328631527,
                    0.9910992328631527,
                    0.9910992328631527,
                    0.9910992328631527,
                    0.9910992328631527,
                    0.9910992328631527,
                    0.9910992328631527,
                    0.9910992328631527,
                    0.9910992328631527,
                    0.9910992328631527,
                    0.9910992328631527,
                    0.9910992328631527,
                    0.9910992328631527,
                    0.9910992328631527,
                    0.9910992328631527,
                    0.9910992328631527,
                    0.9910992328631527,
                    0.9910992328631527,
                    0.9910992328631527,
                    0.9910992328631527,
                    0.9910992328631527,
                    0.9910992328631527,
                    0.9910992328631527,
                    0.9910992328631527,
                    0.9910992328631527,
                    0.9910992328631527,
                    0.9910992328631527,
                    0.9910992328631527,
                    0.9910992328631527,
                    0.9910992328631527,
                    0.9910992328631527,
                    0.9910992328631527,
                    0.9910992328631527,
                    0.9910992328631527,
                    0.9910992328631527,
                    0.9910992328631527,
                    0.9910992328631527,
                    0.9910992328631527,
                    0.9910992328631527,
                    0.9910992328631527,
                    0.9910992328631527,
                    0.9910992328631527,
                    0.9910992328631527,
                    0.9910992328631527,
                    0.9910992328631527,
                    0.9910992328631527,
                    0.9910992328631527,
                    0.9910992328631527,
                    0.9910992328631527,
                    0.9910992328631527,
                    0.9910992328631527,
                    0.9910992328631527,
                    0.9910992328631527,
                    0.9910992328631527,
                    0.9910992328631527,
                    0.9910992328631527,
                    0.9910992328631527,
                    0.9910992328631527,
                    0.9910992328631527,
                    0.9910992328631527,
                    0.9910992328631527,
                    0.9910992328631527,
                    0.9910992328631527,
                    0.9910992328631527,
                    0.9910992328631527,
                    0.9910992328631527,
                    0.9910992328631527,
                    0.9910992328631527,
                    0.9910992328631527,
                    0.9910992328631527,
                    0.9910992328631527,
                    0.9910992328631527,
                    0.9910992328631527,
                    0.9910992328631527,
                    0.9910992328631527,
                    0.9910992328631527,
                    0.9910992328631527,
                    0.9910992328631527,
                    0.9910992328631527,
                    0.9910992328631527,
                    0.9910992328631527,
                    0.9910992328631527,
                    0.9910992328631527,
                    0.9910992328631527,
                    0.9910992328631527,
                    0.9910992328631527,
                    0.9910992328631527,
                    0.9910992328631527,
                    0.9910992328631527,
                    0.9910992328631527,
                    0.9910992328631527,
                    0.9910992328631527,
                    0.9910992328631527,
                    0.9910992328631527,
                    0.9910992328631527,
                    0.9910992328631527,
                    0.9910992328631527,
                    0.9910992328631527,
                    0.9910992328631527,
                    0.9910992328631527,
                    0.9910992328631527,
                    0.9910992328631527,
                    0.9910992328631527,
                    0.9906547884187082,
                    0.9906547884187082,
                    0.9906547884187082,
                    0.9906547884187082,
                    0.9906547884187082,
                    0.9906547884187082,
                    0.9906547884187082,
                    0.9906547884187082,
                    0.9906547884187082,
                    0.9906547884187082,
                    0.9906547884187082,
                    0.9906547884187082,
                    0.9906547884187082,
                    0.9906547884187082,
                    0.9906547884187082,
                    0.9906547884187082,
                    0.9906547884187082,
                    0.9906547884187082,
                    0.9906547884187082,
                    0.9906547884187082,
                    0.9906547884187082,
                    0.9906547884187082,
                    0.9906547884187082,
                    0.9906547884187082,
                    0.9906547884187082,
                    0.9906547884187082,
                    0.9906547884187082,
                    0.9906547884187082,
                    0.9906547884187082,
                    0.9906547884187082,
                    0.9906547884187082,
                    0.9906547884187082,
                    0.9906547884187082,
                    0.9906547884187082,
                    0.9906547884187082,
                    0.9906547884187082,
                    0.9906547884187082,
                    0.9906547884187082,
                    0.9906547884187082,
                    0.9906547884187082,
                    0.9906547884187082,
                    0.9906547884187082,
                    0.9906547884187082,
                    0.9906547884187082,
                    0.9906547884187082,
                    0.9906547884187082,
                    0.9906547884187082,
                    0.9906547884187082,
                    0.9906547884187082,
                    0.9906547884187082,
                    0.9906547884187082,
                    0.9906547884187082,
                    0.9906547884187082,
                    0.9906547884187082,
                    0.9906547884187082,
                    0.9906547884187082,
                    0.9906547884187082,
                    0.9906547884187082,
                    0.9906547884187082,
                    0.9906547884187082,
                    0.9906547884187082,
                    0.9906547884187082,
                    0.9906547884187082,
                    0.9906547884187082,
                    0.9906547884187082,
                    0.9906547884187082,
                    0.9906547884187082,
                    0.9906547884187082,
                    0.9906547884187082,
                    0.9906547884187082,
                    0.9906547884187082,
                    0.9906547884187082,
                    0.9906547884187082,
                    0.9906547884187082,
                    0.9906547884187082,
                    0.9906547884187082,
                    0.9906547884187082,
                    0.9906547884187082,
                    0.9906547884187082,
                    0.9906547884187082,
                    0.9906547884187082,
                    0.9906547884187082,
                    0.9906547884187082,
                    0.9906547884187082,
                    0.9906547884187082,
                    0.9906547884187082,
                    0.9906547884187082,
                    0.9906547884187082,
                    0.9906547884187082,
                    0.9906547884187082,
                    0.9906547884187082,
                    0.9906547884187082,
                    0.9906547884187082,
                    0.9906547884187082,
                    0.9910992328631527,
                    0.9910992328631527,
                    0.9910992328631527,
                    0.9910992328631527,
                    0.9910992328631527,
                    0.9910992328631527,
                    0.9910992328631527,
                    0.9910992328631527,
                    0.9910992328631527,
                    0.9910992328631527,
                    0.9910992328631527,
                    0.9910992328631527,
                    0.9910992328631527,
                    0.9910992328631527,
                    0.9910992328631527,
                    0.9910992328631527,
                    0.9915446671615937,
                    0.9915446671615937,
                    0.9915446671615937,
                    0.9915446671615937,
                    0.9915446671615937,
                    0.9915446671615937,
                    0.9915446671615937,
                    0.9915446671615937,
                    0.9915446671615937,
                    0.9915446671615937,
                    0.9915446671615937,
                    0.9915446671615937,
                    0.9915446671615937,
                    0.9915446671615937,
                    0.9915446671615937,
                    0.9915446671615937,
                    0.9915446671615937,
                    0.9915446671615937,
                    0.9915446671615937,
                    0.9915446671615937,
                    0.9915446671615937,
                    0.9915446671615937,
                    0.9915446671615937,
                    0.9915446671615937,
                    0.9915446671615937,
                    0.9915446671615937,
                    0.9915446671615937,
                    0.9915446671615937,
                    0.9915446671615937,
                    0.9915446671615937,
                    0.9915446671615937,
                    0.9915446671615937,
                    0.9915446671615937,
                    0.9915446671615937,
                    0.9915446671615937,
                    0.9915446671615937,
                    0.9915446671615937,
                    0.9915446671615937,
                    0.9915446671615937,
                    0.9915446671615937,
                    0.9915446671615937,
                    0.9915446671615937,
                    0.9915446671615937,
                    0.9915446671615937,
                    0.9915446671615937,
                    0.9915446671615937,
                    0.9915446671615937,
                    0.9915446671615937,
                    0.9915446671615937,
                    0.9915446671615937,
                    0.9915446671615937,
                    0.9915446671615937,
                    0.9910992328631527,
                    0.9910992328631527,
                    0.9910992328631527,
                    0.9910992328631527,
                    0.9910992328631527,
                    0.9910992328631527,
                    0.9910992328631527,
                    0.9910992328631527,
                    0.9910992328631527,
                    0.9910992328631527,
                    0.9910992328631527,
                    0.9910992328631527,
                    0.9910992328631527,
                    0.9910992328631527,
                    0.9910992328631527,
                    0.9910992328631527,
                    0.9910992328631527,
                    0.9910992328631527,
                    0.9910992328631527,
                    0.9910992328631527,
                    0.9910992328631527,
                    0.9915446671615937,
                    0.9915446671615937,
                    0.9915446671615937,
                    0.9915446671615937,
                    0.9915446671615937,
                    0.9915446671615937,
                    0.9915446671615937,
                    0.9915446671615937,
                    0.9915446671615937,
                    0.9915446671615937,
                    0.9915446671615937,
                    0.9915446671615937,
                    0.9915446671615937,
                    0.9915446671615937,
                    0.9915446671615937,
                    0.9915446671615937,
                    0.9915446671615937,
                    0.9915446671615937,
                    0.9915446671615937,
                    0.9915446671615937,
                    0.9915446671615937,
                    0.9915446671615937,
                    0.9915446671615937,
                    0.9915446671615937,
                    0.9915446671615937,
                    0.9915446671615937,
                    0.9915446671615937,
                    0.9915446671615937,
                    0.9915446671615937,
                    0.9915446671615937,
                    0.9915446671615937,
                    0.9910992328631527,
                    0.9910992328631527,
                    0.9910992328631527,
                    0.9910992328631527,
                    0.9910992328631527,
                    0.9910992328631527,
                    0.9910992328631527,
                    0.9910992328631527,
                    0.9910992328631527,
                    0.9910992328631527,
                    0.9910992328631527,
                    0.9906547884187082,
                    0.9906547884187082,
                    0.9906547884187082,
                    0.9906547884187082,
                    0.9906547884187082,
                    0.9906547884187082,
                    0.9906547884187082,
                    0.9906547884187082,
                    0.9906547884187082,
                    0.9906547884187082,
                    0.9906547884187082,
                    0.9906547884187082,
                    0.9906547884187082,
                    0.9906547884187082,
                    0.9906547884187082,
                    0.9906547884187082,
                    0.9906547884187082,
                    0.9906547884187082,
                    0.9906547884187082,
                    0.9906547884187082,
                    0.9906547884187082,
                    0.9906547884187082,
                    0.9906547884187082,
                    0.9906547884187082,
                    0.9906547884187082,
                    0.9906547884187082,
                    0.9906547884187082,
                    0.9906547884187082,
                    0.9906547884187082,
                    0.9906547884187082,
                    0.9906547884187082,
                    0.9906547884187082,
                    0.9906547884187082,
                    0.9906547884187082,
                    0.9906547884187082,
                    0.9906547884187082,
                    0.9906547884187082,
                    0.9906547884187082,
                    0.9906547884187082,
                    0.9906547884187082,
                    0.9906547884187082,
                    0.9906547884187082,
                    0.9906547884187082,
                    0.9906547884187082,
                    0.9906547884187082,
                    0.9906547884187082,
                    0.9906547884187082,
                    0.9906547884187082,
                    0.9906547884187082,
                    0.9906547884187082,
                    0.9906547884187082,
                    0.9906547884187082,
                    0.9906547884187082,
                    0.9906547884187082,
                    0.9906547884187082,
                    0.9906547884187082,
                    0.9906547884187082,
                    0.9906547884187082,
                    0.9906547884187082,
                    0.9906547884187082,
                    0.9906547884187082,
                    0.9906547884187082,
                    0.9906547884187082,
                    0.9906547884187082,
                    0.9906547884187082,
                    0.9906547884187082,
                    0.9906547884187082,
                    0.9906547884187082,
                    0.9906547884187082,
                    0.9906547884187082,
                    0.9906547884187082,
                    0.9906547884187082,
                    0.9906547884187082,
                    0.9906547884187082,
                    0.9906547884187082,
                    0.9906547884187082,
                    0.9906547884187082,
                    0.9906547884187082,
                    0.9906547884187082,
                    0.9906547884187082,
                    0.9906547884187082,
                    0.9906547884187082,
                    0.9906547884187082,
                    0.9906547884187082,
                    0.9906547884187082,
                    0.9906547884187082,
                    0.9906547884187082,
                    0.9906547884187082,
                    0.9906547884187082,
                    0.9906547884187082,
                    0.9906547884187082,
                    0.9906547884187082,
                    0.9906547884187082,
                    0.9906547884187082,
                    0.9906547884187082,
                    0.9906547884187082,
                    0.9906547884187082,
                    0.9906547884187082,
                    0.9906547884187082,
                    0.9906547884187082,
                    0.9906547884187082,
                    0.9906547884187082,
                    0.9906547884187082,
                    0.9906547884187082,
                    0.9910992328631527,
                    0.9910992328631527,
                    0.9910992328631527,
                    0.9910992328631527,
                    0.9910992328631527,
                    0.9910992328631527,
                    0.9910992328631527,
                    0.9910992328631527,
                    0.9910992328631527,
                    0.9910992328631527,
                    0.9910992328631527,
                    0.9910992328631527,
                    0.9910992328631527,
                    0.9910992328631527,
                    0.9910992328631527,
                    0.9910992328631527,
                    0.9910992328631527,
                    0.9906547884187082,
                    0.9906547884187082,
                    0.9906547884187082,
                    0.9906547884187082,
                    0.9906547884187082,
                    0.9906547884187082,
                    0.9906547884187082,
                    0.9906547884187082,
                    0.9906547884187082,
                    0.9906547884187082,
                    0.9906547884187082,
                    0.9906547884187082,
                    0.9906547884187082,
                    0.9906547884187082,
                    0.9906547884187082,
                    0.9906547884187082,
                    0.9906547884187082,
                    0.9906547884187082,
                    0.9906547884187082,
                    0.9906547884187082,
                    0.9906547884187082,
                    0.9906547884187082,
                    0.9906547884187082,
                    0.9906547884187082,
                    0.9906547884187082,
                    0.9906547884187082,
                    0.9906547884187082,
                    0.9906547884187082,
                    0.9906547884187082,
                    0.9906547884187082,
                    0.9906547884187082,
                    0.9906547884187082,
                    0.9906547884187082,
                    0.9906547884187082,
                    0.9906547884187082,
                    0.9906547884187082,
                    0.9902103439742639,
                    0.9902103439742639,
                    0.9902103439742639,
                    0.9902103439742639,
                    0.9902103439742639,
                    0.9902103439742639,
                    0.9902103439742639,
                    0.9902103439742639,
                    0.9902103439742639,
                    0.9902103439742639,
                    0.9902103439742639,
                    0.9902103439742639,
                    0.9902103439742639,
                    0.989764909675823,
                    0.989764909675823,
                    0.989764909675823,
                    0.989764909675823,
                    0.989764909675823,
                    0.989764909675823,
                    0.989764909675823,
                    0.989764909675823,
                    0.989764909675823,
                    0.989764909675823,
                    0.989764909675823,
                    0.989764909675823,
                    0.989764909675823,
                    0.989764909675823,
                    0.989764909675823,
                    0.989764909675823,
                    0.989764909675823,
                    0.989764909675823,
                    0.989764909675823,
                    0.989764909675823,
                    0.989764909675823,
                    0.989764909675823,
                    0.989764909675823,
                    0.989764909675823,
                    0.989764909675823,
                    0.989764909675823,
                    0.989764909675823,
                    0.989764909675823,
                    0.989764909675823,
                    0.989764909675823,
                    0.989764909675823,
                    0.989764909675823,
                    0.989764909675823,
                    0.989764909675823,
                    0.989764909675823,
                    0.989764909675823,
                    0.989764909675823,
                    0.989764909675823,
                    0.989764909675823,
                    0.989764909675823,
                    0.989764909675823,
                    0.989764909675823,
                    0.989764909675823,
                    0.989764909675823,
                    0.989764909675823,
                    0.989764909675823,
                    0.9902093541202672,
                    0.9902093541202672,
                    0.9902093541202672,
                    0.9902093541202672,
                    0.9902093541202672,
                    0.9902093541202672,
                    0.9902093541202672,
                    0.9902093541202672,
                    0.9902093541202672,
                    0.9906547884187082,
                    0.9906547884187082,
                    0.9906547884187082,
                    0.9906547884187082,
                    0.9906547884187082,
                    0.9906547884187082,
                    0.9906547884187082,
                    0.9906547884187082,
                    0.9906547884187082,
                    0.9906547884187082,
                    0.9906547884187082,
                    0.9906547884187082,
                    0.9906547884187082,
                    0.9906547884187082,
                    0.9906547884187082,
                    0.9906547884187082,
                    0.9906547884187082,
                    0.9906547884187082,
                    0.9906547884187082,
                    0.9906547884187082,
                    0.9906547884187082,
                    0.9906547884187082,
                    0.9906547884187082,
                    0.9906547884187082,
                    0.9906547884187082,
                    0.9906547884187082,
                    0.9906547884187082,
                    0.9906547884187082,
                    0.9906547884187082,
                    0.9906547884187082,
                    0.9906547884187082,
                    0.9906547884187082,
                    0.9902103439742639,
                    0.9902103439742639,
                    0.9902103439742639,
                    0.9902103439742639,
                    0.9902103439742639,
                    0.9902103439742639,
                    0.9902103439742639,
                    0.9902103439742639,
                    0.9902103439742639,
                    0.9902103439742639,
                    0.9902103439742639,
                    0.9902103439742639,
                    0.9902103439742639,
                    0.9902103439742639,
                    0.9897658995298194,
                    0.9897658995298194,
                    0.9897658995298194,
                    0.9897658995298194,
                    0.9897658995298194,
                    0.9897658995298194,
                    0.9897658995298194,
                    0.9897658995298194,
                    0.9897658995298194,
                    0.9893204652313784,
                    0.9888750309329375,
                    0.9888750309329375,
                    0.9888750309329375,
                    0.9888750309329375,
                    0.9888750309329375,
                    0.9888750309329375,
                    0.9888750309329375,
                    0.9888750309329375,
                    0.9888750309329375,
                    0.9888750309329375,
                    0.9888750309329375,
                    0.9888750309329375,
                    0.9888750309329375,
                    0.9888750309329375,
                    0.9884305864884929,
                    0.9888760207869339,
                    0.9893204652313784,
                    0.9893204652313784,
                    0.9893204652313784,
                    0.9893204652313784,
                    0.9888750309329375,
                    0.9893204652313784,
                    0.9888750309329375,
                    0.9888750309329375,
                    0.989319475377382,
                    0.989319475377382,
                    0.989319475377382,
                    0.989319475377382,
                    0.989319475377382,
                    0.989319475377382,
                    0.9888750309329375,
                    0.9888750309329375,
                    0.9888750309329375,
                    0.9888750309329375,
                    0.9888750309329375,
                    0.9888750309329375,
                    0.9884295966344965,
                    0.9884295966344965,
                    0.9870962633011631,
                    0.9733016580054443
                  ],
                  "yaxis": "y"
                }
              ],
              "layout": {
                "annotations": [
                  {
                    "align": "center",
                    "arrowcolor": "#000000",
                    "arrowhead": 5,
                    "arrowsize": 1,
                    "arrowwidth": 1,
                    "ax": 20,
                    "ay": -30,
                    "bgcolor": "#166071",
                    "borderpad": 4,
                    "font": {
                      "color": "#ffffff",
                      "size": 12
                    },
                    "opacity": 0.7,
                    "showarrow": true,
                    "text": "макс. счет при alpha:  0.435<br>                                   0.991545",
                    "x": 0.435,
                    "y": 0.992
                  }
                ],
                "legend": {
                  "tracegroupgap": 0
                },
                "margin": {
                  "t": 60
                },
                "template": {
                  "data": {
                    "bar": [
                      {
                        "error_x": {
                          "color": "#2a3f5f"
                        },
                        "error_y": {
                          "color": "#2a3f5f"
                        },
                        "marker": {
                          "line": {
                            "color": "#E5ECF6",
                            "width": 0.5
                          },
                          "pattern": {
                            "fillmode": "overlay",
                            "size": 10,
                            "solidity": 0.2
                          }
                        },
                        "type": "bar"
                      }
                    ],
                    "barpolar": [
                      {
                        "marker": {
                          "line": {
                            "color": "#E5ECF6",
                            "width": 0.5
                          },
                          "pattern": {
                            "fillmode": "overlay",
                            "size": 10,
                            "solidity": 0.2
                          }
                        },
                        "type": "barpolar"
                      }
                    ],
                    "carpet": [
                      {
                        "aaxis": {
                          "endlinecolor": "#2a3f5f",
                          "gridcolor": "white",
                          "linecolor": "white",
                          "minorgridcolor": "white",
                          "startlinecolor": "#2a3f5f"
                        },
                        "baxis": {
                          "endlinecolor": "#2a3f5f",
                          "gridcolor": "white",
                          "linecolor": "white",
                          "minorgridcolor": "white",
                          "startlinecolor": "#2a3f5f"
                        },
                        "type": "carpet"
                      }
                    ],
                    "choropleth": [
                      {
                        "colorbar": {
                          "outlinewidth": 0,
                          "ticks": ""
                        },
                        "type": "choropleth"
                      }
                    ],
                    "contour": [
                      {
                        "colorbar": {
                          "outlinewidth": 0,
                          "ticks": ""
                        },
                        "colorscale": [
                          [
                            0,
                            "#0d0887"
                          ],
                          [
                            0.1111111111111111,
                            "#46039f"
                          ],
                          [
                            0.2222222222222222,
                            "#7201a8"
                          ],
                          [
                            0.3333333333333333,
                            "#9c179e"
                          ],
                          [
                            0.4444444444444444,
                            "#bd3786"
                          ],
                          [
                            0.5555555555555556,
                            "#d8576b"
                          ],
                          [
                            0.6666666666666666,
                            "#ed7953"
                          ],
                          [
                            0.7777777777777778,
                            "#fb9f3a"
                          ],
                          [
                            0.8888888888888888,
                            "#fdca26"
                          ],
                          [
                            1,
                            "#f0f921"
                          ]
                        ],
                        "type": "contour"
                      }
                    ],
                    "contourcarpet": [
                      {
                        "colorbar": {
                          "outlinewidth": 0,
                          "ticks": ""
                        },
                        "type": "contourcarpet"
                      }
                    ],
                    "heatmap": [
                      {
                        "colorbar": {
                          "outlinewidth": 0,
                          "ticks": ""
                        },
                        "colorscale": [
                          [
                            0,
                            "#0d0887"
                          ],
                          [
                            0.1111111111111111,
                            "#46039f"
                          ],
                          [
                            0.2222222222222222,
                            "#7201a8"
                          ],
                          [
                            0.3333333333333333,
                            "#9c179e"
                          ],
                          [
                            0.4444444444444444,
                            "#bd3786"
                          ],
                          [
                            0.5555555555555556,
                            "#d8576b"
                          ],
                          [
                            0.6666666666666666,
                            "#ed7953"
                          ],
                          [
                            0.7777777777777778,
                            "#fb9f3a"
                          ],
                          [
                            0.8888888888888888,
                            "#fdca26"
                          ],
                          [
                            1,
                            "#f0f921"
                          ]
                        ],
                        "type": "heatmap"
                      }
                    ],
                    "heatmapgl": [
                      {
                        "colorbar": {
                          "outlinewidth": 0,
                          "ticks": ""
                        },
                        "colorscale": [
                          [
                            0,
                            "#0d0887"
                          ],
                          [
                            0.1111111111111111,
                            "#46039f"
                          ],
                          [
                            0.2222222222222222,
                            "#7201a8"
                          ],
                          [
                            0.3333333333333333,
                            "#9c179e"
                          ],
                          [
                            0.4444444444444444,
                            "#bd3786"
                          ],
                          [
                            0.5555555555555556,
                            "#d8576b"
                          ],
                          [
                            0.6666666666666666,
                            "#ed7953"
                          ],
                          [
                            0.7777777777777778,
                            "#fb9f3a"
                          ],
                          [
                            0.8888888888888888,
                            "#fdca26"
                          ],
                          [
                            1,
                            "#f0f921"
                          ]
                        ],
                        "type": "heatmapgl"
                      }
                    ],
                    "histogram": [
                      {
                        "marker": {
                          "pattern": {
                            "fillmode": "overlay",
                            "size": 10,
                            "solidity": 0.2
                          }
                        },
                        "type": "histogram"
                      }
                    ],
                    "histogram2d": [
                      {
                        "colorbar": {
                          "outlinewidth": 0,
                          "ticks": ""
                        },
                        "colorscale": [
                          [
                            0,
                            "#0d0887"
                          ],
                          [
                            0.1111111111111111,
                            "#46039f"
                          ],
                          [
                            0.2222222222222222,
                            "#7201a8"
                          ],
                          [
                            0.3333333333333333,
                            "#9c179e"
                          ],
                          [
                            0.4444444444444444,
                            "#bd3786"
                          ],
                          [
                            0.5555555555555556,
                            "#d8576b"
                          ],
                          [
                            0.6666666666666666,
                            "#ed7953"
                          ],
                          [
                            0.7777777777777778,
                            "#fb9f3a"
                          ],
                          [
                            0.8888888888888888,
                            "#fdca26"
                          ],
                          [
                            1,
                            "#f0f921"
                          ]
                        ],
                        "type": "histogram2d"
                      }
                    ],
                    "histogram2dcontour": [
                      {
                        "colorbar": {
                          "outlinewidth": 0,
                          "ticks": ""
                        },
                        "colorscale": [
                          [
                            0,
                            "#0d0887"
                          ],
                          [
                            0.1111111111111111,
                            "#46039f"
                          ],
                          [
                            0.2222222222222222,
                            "#7201a8"
                          ],
                          [
                            0.3333333333333333,
                            "#9c179e"
                          ],
                          [
                            0.4444444444444444,
                            "#bd3786"
                          ],
                          [
                            0.5555555555555556,
                            "#d8576b"
                          ],
                          [
                            0.6666666666666666,
                            "#ed7953"
                          ],
                          [
                            0.7777777777777778,
                            "#fb9f3a"
                          ],
                          [
                            0.8888888888888888,
                            "#fdca26"
                          ],
                          [
                            1,
                            "#f0f921"
                          ]
                        ],
                        "type": "histogram2dcontour"
                      }
                    ],
                    "mesh3d": [
                      {
                        "colorbar": {
                          "outlinewidth": 0,
                          "ticks": ""
                        },
                        "type": "mesh3d"
                      }
                    ],
                    "parcoords": [
                      {
                        "line": {
                          "colorbar": {
                            "outlinewidth": 0,
                            "ticks": ""
                          }
                        },
                        "type": "parcoords"
                      }
                    ],
                    "pie": [
                      {
                        "automargin": true,
                        "type": "pie"
                      }
                    ],
                    "scatter": [
                      {
                        "fillpattern": {
                          "fillmode": "overlay",
                          "size": 10,
                          "solidity": 0.2
                        },
                        "type": "scatter"
                      }
                    ],
                    "scatter3d": [
                      {
                        "line": {
                          "colorbar": {
                            "outlinewidth": 0,
                            "ticks": ""
                          }
                        },
                        "marker": {
                          "colorbar": {
                            "outlinewidth": 0,
                            "ticks": ""
                          }
                        },
                        "type": "scatter3d"
                      }
                    ],
                    "scattercarpet": [
                      {
                        "marker": {
                          "colorbar": {
                            "outlinewidth": 0,
                            "ticks": ""
                          }
                        },
                        "type": "scattercarpet"
                      }
                    ],
                    "scattergeo": [
                      {
                        "marker": {
                          "colorbar": {
                            "outlinewidth": 0,
                            "ticks": ""
                          }
                        },
                        "type": "scattergeo"
                      }
                    ],
                    "scattergl": [
                      {
                        "marker": {
                          "colorbar": {
                            "outlinewidth": 0,
                            "ticks": ""
                          }
                        },
                        "type": "scattergl"
                      }
                    ],
                    "scattermapbox": [
                      {
                        "marker": {
                          "colorbar": {
                            "outlinewidth": 0,
                            "ticks": ""
                          }
                        },
                        "type": "scattermapbox"
                      }
                    ],
                    "scatterpolar": [
                      {
                        "marker": {
                          "colorbar": {
                            "outlinewidth": 0,
                            "ticks": ""
                          }
                        },
                        "type": "scatterpolar"
                      }
                    ],
                    "scatterpolargl": [
                      {
                        "marker": {
                          "colorbar": {
                            "outlinewidth": 0,
                            "ticks": ""
                          }
                        },
                        "type": "scatterpolargl"
                      }
                    ],
                    "scatterternary": [
                      {
                        "marker": {
                          "colorbar": {
                            "outlinewidth": 0,
                            "ticks": ""
                          }
                        },
                        "type": "scatterternary"
                      }
                    ],
                    "surface": [
                      {
                        "colorbar": {
                          "outlinewidth": 0,
                          "ticks": ""
                        },
                        "colorscale": [
                          [
                            0,
                            "#0d0887"
                          ],
                          [
                            0.1111111111111111,
                            "#46039f"
                          ],
                          [
                            0.2222222222222222,
                            "#7201a8"
                          ],
                          [
                            0.3333333333333333,
                            "#9c179e"
                          ],
                          [
                            0.4444444444444444,
                            "#bd3786"
                          ],
                          [
                            0.5555555555555556,
                            "#d8576b"
                          ],
                          [
                            0.6666666666666666,
                            "#ed7953"
                          ],
                          [
                            0.7777777777777778,
                            "#fb9f3a"
                          ],
                          [
                            0.8888888888888888,
                            "#fdca26"
                          ],
                          [
                            1,
                            "#f0f921"
                          ]
                        ],
                        "type": "surface"
                      }
                    ],
                    "table": [
                      {
                        "cells": {
                          "fill": {
                            "color": "#EBF0F8"
                          },
                          "line": {
                            "color": "white"
                          }
                        },
                        "header": {
                          "fill": {
                            "color": "#C8D4E3"
                          },
                          "line": {
                            "color": "white"
                          }
                        },
                        "type": "table"
                      }
                    ]
                  },
                  "layout": {
                    "annotationdefaults": {
                      "arrowcolor": "#2a3f5f",
                      "arrowhead": 0,
                      "arrowwidth": 1
                    },
                    "autotypenumbers": "strict",
                    "coloraxis": {
                      "colorbar": {
                        "outlinewidth": 0,
                        "ticks": ""
                      }
                    },
                    "colorscale": {
                      "diverging": [
                        [
                          0,
                          "#8e0152"
                        ],
                        [
                          0.1,
                          "#c51b7d"
                        ],
                        [
                          0.2,
                          "#de77ae"
                        ],
                        [
                          0.3,
                          "#f1b6da"
                        ],
                        [
                          0.4,
                          "#fde0ef"
                        ],
                        [
                          0.5,
                          "#f7f7f7"
                        ],
                        [
                          0.6,
                          "#e6f5d0"
                        ],
                        [
                          0.7,
                          "#b8e186"
                        ],
                        [
                          0.8,
                          "#7fbc41"
                        ],
                        [
                          0.9,
                          "#4d9221"
                        ],
                        [
                          1,
                          "#276419"
                        ]
                      ],
                      "sequential": [
                        [
                          0,
                          "#0d0887"
                        ],
                        [
                          0.1111111111111111,
                          "#46039f"
                        ],
                        [
                          0.2222222222222222,
                          "#7201a8"
                        ],
                        [
                          0.3333333333333333,
                          "#9c179e"
                        ],
                        [
                          0.4444444444444444,
                          "#bd3786"
                        ],
                        [
                          0.5555555555555556,
                          "#d8576b"
                        ],
                        [
                          0.6666666666666666,
                          "#ed7953"
                        ],
                        [
                          0.7777777777777778,
                          "#fb9f3a"
                        ],
                        [
                          0.8888888888888888,
                          "#fdca26"
                        ],
                        [
                          1,
                          "#f0f921"
                        ]
                      ],
                      "sequentialminus": [
                        [
                          0,
                          "#0d0887"
                        ],
                        [
                          0.1111111111111111,
                          "#46039f"
                        ],
                        [
                          0.2222222222222222,
                          "#7201a8"
                        ],
                        [
                          0.3333333333333333,
                          "#9c179e"
                        ],
                        [
                          0.4444444444444444,
                          "#bd3786"
                        ],
                        [
                          0.5555555555555556,
                          "#d8576b"
                        ],
                        [
                          0.6666666666666666,
                          "#ed7953"
                        ],
                        [
                          0.7777777777777778,
                          "#fb9f3a"
                        ],
                        [
                          0.8888888888888888,
                          "#fdca26"
                        ],
                        [
                          1,
                          "#f0f921"
                        ]
                      ]
                    },
                    "colorway": [
                      "#636efa",
                      "#EF553B",
                      "#00cc96",
                      "#ab63fa",
                      "#FFA15A",
                      "#19d3f3",
                      "#FF6692",
                      "#B6E880",
                      "#FF97FF",
                      "#FECB52"
                    ],
                    "font": {
                      "color": "#2a3f5f"
                    },
                    "geo": {
                      "bgcolor": "white",
                      "lakecolor": "white",
                      "landcolor": "#E5ECF6",
                      "showlakes": true,
                      "showland": true,
                      "subunitcolor": "white"
                    },
                    "hoverlabel": {
                      "align": "left"
                    },
                    "hovermode": "closest",
                    "mapbox": {
                      "style": "light"
                    },
                    "paper_bgcolor": "white",
                    "plot_bgcolor": "#E5ECF6",
                    "polar": {
                      "angularaxis": {
                        "gridcolor": "white",
                        "linecolor": "white",
                        "ticks": ""
                      },
                      "bgcolor": "#E5ECF6",
                      "radialaxis": {
                        "gridcolor": "white",
                        "linecolor": "white",
                        "ticks": ""
                      }
                    },
                    "scene": {
                      "xaxis": {
                        "backgroundcolor": "#E5ECF6",
                        "gridcolor": "white",
                        "gridwidth": 2,
                        "linecolor": "white",
                        "showbackground": true,
                        "ticks": "",
                        "zerolinecolor": "white"
                      },
                      "yaxis": {
                        "backgroundcolor": "#E5ECF6",
                        "gridcolor": "white",
                        "gridwidth": 2,
                        "linecolor": "white",
                        "showbackground": true,
                        "ticks": "",
                        "zerolinecolor": "white"
                      },
                      "zaxis": {
                        "backgroundcolor": "#E5ECF6",
                        "gridcolor": "white",
                        "gridwidth": 2,
                        "linecolor": "white",
                        "showbackground": true,
                        "ticks": "",
                        "zerolinecolor": "white"
                      }
                    },
                    "shapedefaults": {
                      "line": {
                        "color": "#2a3f5f"
                      }
                    },
                    "ternary": {
                      "aaxis": {
                        "gridcolor": "white",
                        "linecolor": "white",
                        "ticks": ""
                      },
                      "baxis": {
                        "gridcolor": "white",
                        "linecolor": "white",
                        "ticks": ""
                      },
                      "bgcolor": "#E5ECF6",
                      "caxis": {
                        "gridcolor": "white",
                        "linecolor": "white",
                        "ticks": ""
                      }
                    },
                    "title": {
                      "x": 0.05
                    },
                    "xaxis": {
                      "automargin": true,
                      "gridcolor": "white",
                      "linecolor": "white",
                      "ticks": "",
                      "title": {
                        "standoff": 15
                      },
                      "zerolinecolor": "white",
                      "zerolinewidth": 2
                    },
                    "yaxis": {
                      "automargin": true,
                      "gridcolor": "white",
                      "linecolor": "white",
                      "ticks": "",
                      "title": {
                        "standoff": 15
                      },
                      "zerolinecolor": "white",
                      "zerolinewidth": 2
                    }
                  }
                },
                "title": {
                  "text": "Изменение качества предсказания модели от alpha"
                },
                "xaxis": {
                  "anchor": "y",
                  "domain": [
                    0,
                    1
                  ],
                  "title": {
                    "text": "Параметр alpha"
                  }
                },
                "yaxis": {
                  "anchor": "x",
                  "domain": [
                    0,
                    1
                  ],
                  "range": [
                    0.97,
                    0.995
                  ],
                  "title": {
                    "text": "Средний счет на тестовых данных"
                  }
                }
              }
            }
          },
          "metadata": {},
          "output_type": "display_data"
        }
      ],
      "source": [
        "# создадим dataframe на основе результатов подбора параметров,\n",
        "# это упростит нам отрисовку графика\n",
        "grid_search_results = pd.DataFrame(grid_search.cv_results_)\n",
        "fig = px.line(\n",
        "              grid_search_results,\n",
        "              x='param_alpha', \n",
        "              y='mean_test_score',\n",
        "            )\n",
        "fig.update_layout(title='Изменение качества предсказания модели от alpha',\n",
        "                   xaxis_title='Параметр alpha',\n",
        "                   yaxis_title='Средний счет на тестовых данных',\n",
        "                   )\n",
        "fig.update_yaxes(range = [0.97,.995])\n",
        "fig.add_annotation(\n",
        "        x=.435,\n",
        "        y=.992,\n",
        "        text=f\"макс. счет при alpha:  {max_alpha['alpha']}<br>{grid_search.best_score_:43.6f}\",\n",
        "        font=dict(\n",
        "            size=12,\n",
        "            color=\"#ffffff\"\n",
        "            ),\n",
        "        align=\"center\",\n",
        "        ax=20,\n",
        "        borderpad=4,\n",
        "        bgcolor=\"#166071\",\n",
        "        opacity=0.7,\n",
        "        showarrow=True,\n",
        "        arrowhead=5,\n",
        "        arrowsize=1,\n",
        "        arrowwidth=1,\n",
        "        arrowcolor=\"#000000\",\n",
        "        ay=-30,        \n",
        "        )\n",
        "\n",
        "fig.show()"
      ]
    },
    {
      "cell_type": "markdown",
      "id": "b7579f2e",
      "metadata": {},
      "source": [
        "Как мы можем наблюдать, мы можем добиваться, как улучшения предсказания нашей модели, так и ухудшения в зависимости от параметра alpha.\n",
        "\n",
        "Наилучший результат при alpha = 0.435"
      ]
    }
  ],
  "metadata": {
    "colab": {
      "name": "SGA_unit6_NBC.ipynb",
      "provenance": []
    },
    "kernelspec": {
      "display_name": "Python 3 (ipykernel)",
      "language": "python",
      "name": "python3"
    },
    "language_info": {
      "codemirror_mode": {
        "name": "ipython",
        "version": 3
      },
      "file_extension": ".py",
      "mimetype": "text/x-python",
      "name": "python",
      "nbconvert_exporter": "python",
      "pygments_lexer": "ipython3",
      "version": "3.11.0"
    }
  },
  "nbformat": 4,
  "nbformat_minor": 5
}
